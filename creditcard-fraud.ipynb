{
 "cells": [
  {
   "cell_type": "markdown",
   "id": "a8686b39",
   "metadata": {
    "papermill": {
     "duration": 0.019939,
     "end_time": "2022-12-13T09:50:28.173865",
     "exception": false,
     "start_time": "2022-12-13T09:50:28.153926",
     "status": "completed"
    },
    "tags": []
   },
   "source": [
    "# INTRODUCTION\n",
    "<font color = \"red\">\n",
    "Content:\n",
    "    \n",
    "1. [Data Understanding](#1)\n",
    "1. [Data Preparation](#2)\n",
    "1. [Model Building and Deployment](#3)\n",
    "    * [Spliting Data Into Features & Targets](#4)\n",
    "    * [Undersampling](#5)       \n",
    "    * [Train-Test-Split](#6)  \n",
    "    * [Methods](#7)\n",
    "    * [High Accuracy Ranking(First 6)](#8)\n",
    "    * [Highest TP and TN(First 6)](#9)\n",
    "1. [Conclusion](#10)     \n"
   ]
  },
  {
   "cell_type": "code",
   "execution_count": 1,
   "id": "ac339f01",
   "metadata": {
    "execution": {
     "iopub.execute_input": "2022-12-13T09:50:28.202999Z",
     "iopub.status.busy": "2022-12-13T09:50:28.202383Z",
     "iopub.status.idle": "2022-12-13T09:50:29.386411Z",
     "shell.execute_reply": "2022-12-13T09:50:29.385094Z"
    },
    "papermill": {
     "duration": 1.203036,
     "end_time": "2022-12-13T09:50:29.389693",
     "exception": false,
     "start_time": "2022-12-13T09:50:28.186657",
     "status": "completed"
    },
    "tags": []
   },
   "outputs": [],
   "source": [
    "import pandas as pd\n",
    "import numpy as np\n",
    "import seaborn as sns\n",
    "import matplotlib.pyplot as plt\n",
    "import warnings\n",
    "warnings.filterwarnings(\"ignore\")\n"
   ]
  },
  {
   "cell_type": "markdown",
   "id": "fab739eb",
   "metadata": {
    "papermill": {
     "duration": 0.011239,
     "end_time": "2022-12-13T09:50:29.412687",
     "exception": false,
     "start_time": "2022-12-13T09:50:29.401448",
     "status": "completed"
    },
    "tags": []
   },
   "source": [
    "<a id= \"1\"></a>\n",
    "# Data Understanding"
   ]
  },
  {
   "cell_type": "code",
   "execution_count": 2,
   "id": "2b0c1f94",
   "metadata": {
    "execution": {
     "iopub.execute_input": "2022-12-13T09:50:29.438710Z",
     "iopub.status.busy": "2022-12-13T09:50:29.437940Z",
     "iopub.status.idle": "2022-12-13T09:50:34.261988Z",
     "shell.execute_reply": "2022-12-13T09:50:34.260511Z"
    },
    "papermill": {
     "duration": 4.840315,
     "end_time": "2022-12-13T09:50:34.265013",
     "exception": false,
     "start_time": "2022-12-13T09:50:29.424698",
     "status": "completed"
    },
    "tags": []
   },
   "outputs": [],
   "source": [
    "df = pd.read_csv(\"/kaggle/input/creditcardfraud/creditcard.csv\")"
   ]
  },
  {
   "cell_type": "code",
   "execution_count": 3,
   "id": "bdf9c1b0",
   "metadata": {
    "execution": {
     "iopub.execute_input": "2022-12-13T09:50:34.291264Z",
     "iopub.status.busy": "2022-12-13T09:50:34.290076Z",
     "iopub.status.idle": "2022-12-13T09:50:34.329530Z",
     "shell.execute_reply": "2022-12-13T09:50:34.328367Z"
    },
    "papermill": {
     "duration": 0.056225,
     "end_time": "2022-12-13T09:50:34.333064",
     "exception": false,
     "start_time": "2022-12-13T09:50:34.276839",
     "status": "completed"
    },
    "tags": []
   },
   "outputs": [
    {
     "data": {
      "text/html": [
       "<div>\n",
       "<style scoped>\n",
       "    .dataframe tbody tr th:only-of-type {\n",
       "        vertical-align: middle;\n",
       "    }\n",
       "\n",
       "    .dataframe tbody tr th {\n",
       "        vertical-align: top;\n",
       "    }\n",
       "\n",
       "    .dataframe thead th {\n",
       "        text-align: right;\n",
       "    }\n",
       "</style>\n",
       "<table border=\"1\" class=\"dataframe\">\n",
       "  <thead>\n",
       "    <tr style=\"text-align: right;\">\n",
       "      <th></th>\n",
       "      <th>Time</th>\n",
       "      <th>V1</th>\n",
       "      <th>V2</th>\n",
       "      <th>V3</th>\n",
       "      <th>V4</th>\n",
       "      <th>V5</th>\n",
       "      <th>V6</th>\n",
       "      <th>V7</th>\n",
       "      <th>V8</th>\n",
       "      <th>V9</th>\n",
       "      <th>...</th>\n",
       "      <th>V21</th>\n",
       "      <th>V22</th>\n",
       "      <th>V23</th>\n",
       "      <th>V24</th>\n",
       "      <th>V25</th>\n",
       "      <th>V26</th>\n",
       "      <th>V27</th>\n",
       "      <th>V28</th>\n",
       "      <th>Amount</th>\n",
       "      <th>Class</th>\n",
       "    </tr>\n",
       "  </thead>\n",
       "  <tbody>\n",
       "    <tr>\n",
       "      <th>0</th>\n",
       "      <td>0.0</td>\n",
       "      <td>-1.359807</td>\n",
       "      <td>-0.072781</td>\n",
       "      <td>2.536347</td>\n",
       "      <td>1.378155</td>\n",
       "      <td>-0.338321</td>\n",
       "      <td>0.462388</td>\n",
       "      <td>0.239599</td>\n",
       "      <td>0.098698</td>\n",
       "      <td>0.363787</td>\n",
       "      <td>...</td>\n",
       "      <td>-0.018307</td>\n",
       "      <td>0.277838</td>\n",
       "      <td>-0.110474</td>\n",
       "      <td>0.066928</td>\n",
       "      <td>0.128539</td>\n",
       "      <td>-0.189115</td>\n",
       "      <td>0.133558</td>\n",
       "      <td>-0.021053</td>\n",
       "      <td>149.62</td>\n",
       "      <td>0</td>\n",
       "    </tr>\n",
       "    <tr>\n",
       "      <th>1</th>\n",
       "      <td>0.0</td>\n",
       "      <td>1.191857</td>\n",
       "      <td>0.266151</td>\n",
       "      <td>0.166480</td>\n",
       "      <td>0.448154</td>\n",
       "      <td>0.060018</td>\n",
       "      <td>-0.082361</td>\n",
       "      <td>-0.078803</td>\n",
       "      <td>0.085102</td>\n",
       "      <td>-0.255425</td>\n",
       "      <td>...</td>\n",
       "      <td>-0.225775</td>\n",
       "      <td>-0.638672</td>\n",
       "      <td>0.101288</td>\n",
       "      <td>-0.339846</td>\n",
       "      <td>0.167170</td>\n",
       "      <td>0.125895</td>\n",
       "      <td>-0.008983</td>\n",
       "      <td>0.014724</td>\n",
       "      <td>2.69</td>\n",
       "      <td>0</td>\n",
       "    </tr>\n",
       "    <tr>\n",
       "      <th>2</th>\n",
       "      <td>1.0</td>\n",
       "      <td>-1.358354</td>\n",
       "      <td>-1.340163</td>\n",
       "      <td>1.773209</td>\n",
       "      <td>0.379780</td>\n",
       "      <td>-0.503198</td>\n",
       "      <td>1.800499</td>\n",
       "      <td>0.791461</td>\n",
       "      <td>0.247676</td>\n",
       "      <td>-1.514654</td>\n",
       "      <td>...</td>\n",
       "      <td>0.247998</td>\n",
       "      <td>0.771679</td>\n",
       "      <td>0.909412</td>\n",
       "      <td>-0.689281</td>\n",
       "      <td>-0.327642</td>\n",
       "      <td>-0.139097</td>\n",
       "      <td>-0.055353</td>\n",
       "      <td>-0.059752</td>\n",
       "      <td>378.66</td>\n",
       "      <td>0</td>\n",
       "    </tr>\n",
       "    <tr>\n",
       "      <th>3</th>\n",
       "      <td>1.0</td>\n",
       "      <td>-0.966272</td>\n",
       "      <td>-0.185226</td>\n",
       "      <td>1.792993</td>\n",
       "      <td>-0.863291</td>\n",
       "      <td>-0.010309</td>\n",
       "      <td>1.247203</td>\n",
       "      <td>0.237609</td>\n",
       "      <td>0.377436</td>\n",
       "      <td>-1.387024</td>\n",
       "      <td>...</td>\n",
       "      <td>-0.108300</td>\n",
       "      <td>0.005274</td>\n",
       "      <td>-0.190321</td>\n",
       "      <td>-1.175575</td>\n",
       "      <td>0.647376</td>\n",
       "      <td>-0.221929</td>\n",
       "      <td>0.062723</td>\n",
       "      <td>0.061458</td>\n",
       "      <td>123.50</td>\n",
       "      <td>0</td>\n",
       "    </tr>\n",
       "    <tr>\n",
       "      <th>4</th>\n",
       "      <td>2.0</td>\n",
       "      <td>-1.158233</td>\n",
       "      <td>0.877737</td>\n",
       "      <td>1.548718</td>\n",
       "      <td>0.403034</td>\n",
       "      <td>-0.407193</td>\n",
       "      <td>0.095921</td>\n",
       "      <td>0.592941</td>\n",
       "      <td>-0.270533</td>\n",
       "      <td>0.817739</td>\n",
       "      <td>...</td>\n",
       "      <td>-0.009431</td>\n",
       "      <td>0.798278</td>\n",
       "      <td>-0.137458</td>\n",
       "      <td>0.141267</td>\n",
       "      <td>-0.206010</td>\n",
       "      <td>0.502292</td>\n",
       "      <td>0.219422</td>\n",
       "      <td>0.215153</td>\n",
       "      <td>69.99</td>\n",
       "      <td>0</td>\n",
       "    </tr>\n",
       "  </tbody>\n",
       "</table>\n",
       "<p>5 rows × 31 columns</p>\n",
       "</div>"
      ],
      "text/plain": [
       "   Time        V1        V2        V3        V4        V5        V6        V7  \\\n",
       "0   0.0 -1.359807 -0.072781  2.536347  1.378155 -0.338321  0.462388  0.239599   \n",
       "1   0.0  1.191857  0.266151  0.166480  0.448154  0.060018 -0.082361 -0.078803   \n",
       "2   1.0 -1.358354 -1.340163  1.773209  0.379780 -0.503198  1.800499  0.791461   \n",
       "3   1.0 -0.966272 -0.185226  1.792993 -0.863291 -0.010309  1.247203  0.237609   \n",
       "4   2.0 -1.158233  0.877737  1.548718  0.403034 -0.407193  0.095921  0.592941   \n",
       "\n",
       "         V8        V9  ...       V21       V22       V23       V24       V25  \\\n",
       "0  0.098698  0.363787  ... -0.018307  0.277838 -0.110474  0.066928  0.128539   \n",
       "1  0.085102 -0.255425  ... -0.225775 -0.638672  0.101288 -0.339846  0.167170   \n",
       "2  0.247676 -1.514654  ...  0.247998  0.771679  0.909412 -0.689281 -0.327642   \n",
       "3  0.377436 -1.387024  ... -0.108300  0.005274 -0.190321 -1.175575  0.647376   \n",
       "4 -0.270533  0.817739  ... -0.009431  0.798278 -0.137458  0.141267 -0.206010   \n",
       "\n",
       "        V26       V27       V28  Amount  Class  \n",
       "0 -0.189115  0.133558 -0.021053  149.62      0  \n",
       "1  0.125895 -0.008983  0.014724    2.69      0  \n",
       "2 -0.139097 -0.055353 -0.059752  378.66      0  \n",
       "3 -0.221929  0.062723  0.061458  123.50      0  \n",
       "4  0.502292  0.219422  0.215153   69.99      0  \n",
       "\n",
       "[5 rows x 31 columns]"
      ]
     },
     "execution_count": 3,
     "metadata": {},
     "output_type": "execute_result"
    }
   ],
   "source": [
    "df.head()"
   ]
  },
  {
   "cell_type": "code",
   "execution_count": 4,
   "id": "8d97570c",
   "metadata": {
    "execution": {
     "iopub.execute_input": "2022-12-13T09:50:34.361220Z",
     "iopub.status.busy": "2022-12-13T09:50:34.358734Z",
     "iopub.status.idle": "2022-12-13T09:50:34.407492Z",
     "shell.execute_reply": "2022-12-13T09:50:34.405352Z"
    },
    "papermill": {
     "duration": 0.066117,
     "end_time": "2022-12-13T09:50:34.411169",
     "exception": false,
     "start_time": "2022-12-13T09:50:34.345052",
     "status": "completed"
    },
    "tags": []
   },
   "outputs": [
    {
     "name": "stdout",
     "output_type": "stream",
     "text": [
      "<class 'pandas.core.frame.DataFrame'>\n",
      "RangeIndex: 284807 entries, 0 to 284806\n",
      "Data columns (total 31 columns):\n",
      " #   Column  Non-Null Count   Dtype  \n",
      "---  ------  --------------   -----  \n",
      " 0   Time    284807 non-null  float64\n",
      " 1   V1      284807 non-null  float64\n",
      " 2   V2      284807 non-null  float64\n",
      " 3   V3      284807 non-null  float64\n",
      " 4   V4      284807 non-null  float64\n",
      " 5   V5      284807 non-null  float64\n",
      " 6   V6      284807 non-null  float64\n",
      " 7   V7      284807 non-null  float64\n",
      " 8   V8      284807 non-null  float64\n",
      " 9   V9      284807 non-null  float64\n",
      " 10  V10     284807 non-null  float64\n",
      " 11  V11     284807 non-null  float64\n",
      " 12  V12     284807 non-null  float64\n",
      " 13  V13     284807 non-null  float64\n",
      " 14  V14     284807 non-null  float64\n",
      " 15  V15     284807 non-null  float64\n",
      " 16  V16     284807 non-null  float64\n",
      " 17  V17     284807 non-null  float64\n",
      " 18  V18     284807 non-null  float64\n",
      " 19  V19     284807 non-null  float64\n",
      " 20  V20     284807 non-null  float64\n",
      " 21  V21     284807 non-null  float64\n",
      " 22  V22     284807 non-null  float64\n",
      " 23  V23     284807 non-null  float64\n",
      " 24  V24     284807 non-null  float64\n",
      " 25  V25     284807 non-null  float64\n",
      " 26  V26     284807 non-null  float64\n",
      " 27  V27     284807 non-null  float64\n",
      " 28  V28     284807 non-null  float64\n",
      " 29  Amount  284807 non-null  float64\n",
      " 30  Class   284807 non-null  int64  \n",
      "dtypes: float64(30), int64(1)\n",
      "memory usage: 67.4 MB\n"
     ]
    }
   ],
   "source": [
    "df.info()"
   ]
  },
  {
   "cell_type": "code",
   "execution_count": 5,
   "id": "d3b9ad11",
   "metadata": {
    "execution": {
     "iopub.execute_input": "2022-12-13T09:50:34.438225Z",
     "iopub.status.busy": "2022-12-13T09:50:34.437809Z",
     "iopub.status.idle": "2022-12-13T09:50:34.952968Z",
     "shell.execute_reply": "2022-12-13T09:50:34.951579Z"
    },
    "papermill": {
     "duration": 0.531895,
     "end_time": "2022-12-13T09:50:34.955775",
     "exception": false,
     "start_time": "2022-12-13T09:50:34.423880",
     "status": "completed"
    },
    "tags": []
   },
   "outputs": [
    {
     "data": {
      "text/html": [
       "<div>\n",
       "<style scoped>\n",
       "    .dataframe tbody tr th:only-of-type {\n",
       "        vertical-align: middle;\n",
       "    }\n",
       "\n",
       "    .dataframe tbody tr th {\n",
       "        vertical-align: top;\n",
       "    }\n",
       "\n",
       "    .dataframe thead th {\n",
       "        text-align: right;\n",
       "    }\n",
       "</style>\n",
       "<table border=\"1\" class=\"dataframe\">\n",
       "  <thead>\n",
       "    <tr style=\"text-align: right;\">\n",
       "      <th></th>\n",
       "      <th>Time</th>\n",
       "      <th>V1</th>\n",
       "      <th>V2</th>\n",
       "      <th>V3</th>\n",
       "      <th>V4</th>\n",
       "      <th>V5</th>\n",
       "      <th>V6</th>\n",
       "      <th>V7</th>\n",
       "      <th>V8</th>\n",
       "      <th>V9</th>\n",
       "      <th>...</th>\n",
       "      <th>V21</th>\n",
       "      <th>V22</th>\n",
       "      <th>V23</th>\n",
       "      <th>V24</th>\n",
       "      <th>V25</th>\n",
       "      <th>V26</th>\n",
       "      <th>V27</th>\n",
       "      <th>V28</th>\n",
       "      <th>Amount</th>\n",
       "      <th>Class</th>\n",
       "    </tr>\n",
       "  </thead>\n",
       "  <tbody>\n",
       "    <tr>\n",
       "      <th>count</th>\n",
       "      <td>284807.000000</td>\n",
       "      <td>2.848070e+05</td>\n",
       "      <td>2.848070e+05</td>\n",
       "      <td>2.848070e+05</td>\n",
       "      <td>2.848070e+05</td>\n",
       "      <td>2.848070e+05</td>\n",
       "      <td>2.848070e+05</td>\n",
       "      <td>2.848070e+05</td>\n",
       "      <td>2.848070e+05</td>\n",
       "      <td>2.848070e+05</td>\n",
       "      <td>...</td>\n",
       "      <td>2.848070e+05</td>\n",
       "      <td>2.848070e+05</td>\n",
       "      <td>2.848070e+05</td>\n",
       "      <td>2.848070e+05</td>\n",
       "      <td>2.848070e+05</td>\n",
       "      <td>2.848070e+05</td>\n",
       "      <td>2.848070e+05</td>\n",
       "      <td>2.848070e+05</td>\n",
       "      <td>284807.000000</td>\n",
       "      <td>284807.000000</td>\n",
       "    </tr>\n",
       "    <tr>\n",
       "      <th>mean</th>\n",
       "      <td>94813.859575</td>\n",
       "      <td>1.168375e-15</td>\n",
       "      <td>3.416908e-16</td>\n",
       "      <td>-1.379537e-15</td>\n",
       "      <td>2.074095e-15</td>\n",
       "      <td>9.604066e-16</td>\n",
       "      <td>1.487313e-15</td>\n",
       "      <td>-5.556467e-16</td>\n",
       "      <td>1.213481e-16</td>\n",
       "      <td>-2.406331e-15</td>\n",
       "      <td>...</td>\n",
       "      <td>1.654067e-16</td>\n",
       "      <td>-3.568593e-16</td>\n",
       "      <td>2.578648e-16</td>\n",
       "      <td>4.473266e-15</td>\n",
       "      <td>5.340915e-16</td>\n",
       "      <td>1.683437e-15</td>\n",
       "      <td>-3.660091e-16</td>\n",
       "      <td>-1.227390e-16</td>\n",
       "      <td>88.349619</td>\n",
       "      <td>0.001727</td>\n",
       "    </tr>\n",
       "    <tr>\n",
       "      <th>std</th>\n",
       "      <td>47488.145955</td>\n",
       "      <td>1.958696e+00</td>\n",
       "      <td>1.651309e+00</td>\n",
       "      <td>1.516255e+00</td>\n",
       "      <td>1.415869e+00</td>\n",
       "      <td>1.380247e+00</td>\n",
       "      <td>1.332271e+00</td>\n",
       "      <td>1.237094e+00</td>\n",
       "      <td>1.194353e+00</td>\n",
       "      <td>1.098632e+00</td>\n",
       "      <td>...</td>\n",
       "      <td>7.345240e-01</td>\n",
       "      <td>7.257016e-01</td>\n",
       "      <td>6.244603e-01</td>\n",
       "      <td>6.056471e-01</td>\n",
       "      <td>5.212781e-01</td>\n",
       "      <td>4.822270e-01</td>\n",
       "      <td>4.036325e-01</td>\n",
       "      <td>3.300833e-01</td>\n",
       "      <td>250.120109</td>\n",
       "      <td>0.041527</td>\n",
       "    </tr>\n",
       "    <tr>\n",
       "      <th>min</th>\n",
       "      <td>0.000000</td>\n",
       "      <td>-5.640751e+01</td>\n",
       "      <td>-7.271573e+01</td>\n",
       "      <td>-4.832559e+01</td>\n",
       "      <td>-5.683171e+00</td>\n",
       "      <td>-1.137433e+02</td>\n",
       "      <td>-2.616051e+01</td>\n",
       "      <td>-4.355724e+01</td>\n",
       "      <td>-7.321672e+01</td>\n",
       "      <td>-1.343407e+01</td>\n",
       "      <td>...</td>\n",
       "      <td>-3.483038e+01</td>\n",
       "      <td>-1.093314e+01</td>\n",
       "      <td>-4.480774e+01</td>\n",
       "      <td>-2.836627e+00</td>\n",
       "      <td>-1.029540e+01</td>\n",
       "      <td>-2.604551e+00</td>\n",
       "      <td>-2.256568e+01</td>\n",
       "      <td>-1.543008e+01</td>\n",
       "      <td>0.000000</td>\n",
       "      <td>0.000000</td>\n",
       "    </tr>\n",
       "    <tr>\n",
       "      <th>25%</th>\n",
       "      <td>54201.500000</td>\n",
       "      <td>-9.203734e-01</td>\n",
       "      <td>-5.985499e-01</td>\n",
       "      <td>-8.903648e-01</td>\n",
       "      <td>-8.486401e-01</td>\n",
       "      <td>-6.915971e-01</td>\n",
       "      <td>-7.682956e-01</td>\n",
       "      <td>-5.540759e-01</td>\n",
       "      <td>-2.086297e-01</td>\n",
       "      <td>-6.430976e-01</td>\n",
       "      <td>...</td>\n",
       "      <td>-2.283949e-01</td>\n",
       "      <td>-5.423504e-01</td>\n",
       "      <td>-1.618463e-01</td>\n",
       "      <td>-3.545861e-01</td>\n",
       "      <td>-3.171451e-01</td>\n",
       "      <td>-3.269839e-01</td>\n",
       "      <td>-7.083953e-02</td>\n",
       "      <td>-5.295979e-02</td>\n",
       "      <td>5.600000</td>\n",
       "      <td>0.000000</td>\n",
       "    </tr>\n",
       "    <tr>\n",
       "      <th>50%</th>\n",
       "      <td>84692.000000</td>\n",
       "      <td>1.810880e-02</td>\n",
       "      <td>6.548556e-02</td>\n",
       "      <td>1.798463e-01</td>\n",
       "      <td>-1.984653e-02</td>\n",
       "      <td>-5.433583e-02</td>\n",
       "      <td>-2.741871e-01</td>\n",
       "      <td>4.010308e-02</td>\n",
       "      <td>2.235804e-02</td>\n",
       "      <td>-5.142873e-02</td>\n",
       "      <td>...</td>\n",
       "      <td>-2.945017e-02</td>\n",
       "      <td>6.781943e-03</td>\n",
       "      <td>-1.119293e-02</td>\n",
       "      <td>4.097606e-02</td>\n",
       "      <td>1.659350e-02</td>\n",
       "      <td>-5.213911e-02</td>\n",
       "      <td>1.342146e-03</td>\n",
       "      <td>1.124383e-02</td>\n",
       "      <td>22.000000</td>\n",
       "      <td>0.000000</td>\n",
       "    </tr>\n",
       "    <tr>\n",
       "      <th>75%</th>\n",
       "      <td>139320.500000</td>\n",
       "      <td>1.315642e+00</td>\n",
       "      <td>8.037239e-01</td>\n",
       "      <td>1.027196e+00</td>\n",
       "      <td>7.433413e-01</td>\n",
       "      <td>6.119264e-01</td>\n",
       "      <td>3.985649e-01</td>\n",
       "      <td>5.704361e-01</td>\n",
       "      <td>3.273459e-01</td>\n",
       "      <td>5.971390e-01</td>\n",
       "      <td>...</td>\n",
       "      <td>1.863772e-01</td>\n",
       "      <td>5.285536e-01</td>\n",
       "      <td>1.476421e-01</td>\n",
       "      <td>4.395266e-01</td>\n",
       "      <td>3.507156e-01</td>\n",
       "      <td>2.409522e-01</td>\n",
       "      <td>9.104512e-02</td>\n",
       "      <td>7.827995e-02</td>\n",
       "      <td>77.165000</td>\n",
       "      <td>0.000000</td>\n",
       "    </tr>\n",
       "    <tr>\n",
       "      <th>max</th>\n",
       "      <td>172792.000000</td>\n",
       "      <td>2.454930e+00</td>\n",
       "      <td>2.205773e+01</td>\n",
       "      <td>9.382558e+00</td>\n",
       "      <td>1.687534e+01</td>\n",
       "      <td>3.480167e+01</td>\n",
       "      <td>7.330163e+01</td>\n",
       "      <td>1.205895e+02</td>\n",
       "      <td>2.000721e+01</td>\n",
       "      <td>1.559499e+01</td>\n",
       "      <td>...</td>\n",
       "      <td>2.720284e+01</td>\n",
       "      <td>1.050309e+01</td>\n",
       "      <td>2.252841e+01</td>\n",
       "      <td>4.584549e+00</td>\n",
       "      <td>7.519589e+00</td>\n",
       "      <td>3.517346e+00</td>\n",
       "      <td>3.161220e+01</td>\n",
       "      <td>3.384781e+01</td>\n",
       "      <td>25691.160000</td>\n",
       "      <td>1.000000</td>\n",
       "    </tr>\n",
       "  </tbody>\n",
       "</table>\n",
       "<p>8 rows × 31 columns</p>\n",
       "</div>"
      ],
      "text/plain": [
       "                Time            V1            V2            V3            V4  \\\n",
       "count  284807.000000  2.848070e+05  2.848070e+05  2.848070e+05  2.848070e+05   \n",
       "mean    94813.859575  1.168375e-15  3.416908e-16 -1.379537e-15  2.074095e-15   \n",
       "std     47488.145955  1.958696e+00  1.651309e+00  1.516255e+00  1.415869e+00   \n",
       "min         0.000000 -5.640751e+01 -7.271573e+01 -4.832559e+01 -5.683171e+00   \n",
       "25%     54201.500000 -9.203734e-01 -5.985499e-01 -8.903648e-01 -8.486401e-01   \n",
       "50%     84692.000000  1.810880e-02  6.548556e-02  1.798463e-01 -1.984653e-02   \n",
       "75%    139320.500000  1.315642e+00  8.037239e-01  1.027196e+00  7.433413e-01   \n",
       "max    172792.000000  2.454930e+00  2.205773e+01  9.382558e+00  1.687534e+01   \n",
       "\n",
       "                 V5            V6            V7            V8            V9  \\\n",
       "count  2.848070e+05  2.848070e+05  2.848070e+05  2.848070e+05  2.848070e+05   \n",
       "mean   9.604066e-16  1.487313e-15 -5.556467e-16  1.213481e-16 -2.406331e-15   \n",
       "std    1.380247e+00  1.332271e+00  1.237094e+00  1.194353e+00  1.098632e+00   \n",
       "min   -1.137433e+02 -2.616051e+01 -4.355724e+01 -7.321672e+01 -1.343407e+01   \n",
       "25%   -6.915971e-01 -7.682956e-01 -5.540759e-01 -2.086297e-01 -6.430976e-01   \n",
       "50%   -5.433583e-02 -2.741871e-01  4.010308e-02  2.235804e-02 -5.142873e-02   \n",
       "75%    6.119264e-01  3.985649e-01  5.704361e-01  3.273459e-01  5.971390e-01   \n",
       "max    3.480167e+01  7.330163e+01  1.205895e+02  2.000721e+01  1.559499e+01   \n",
       "\n",
       "       ...           V21           V22           V23           V24  \\\n",
       "count  ...  2.848070e+05  2.848070e+05  2.848070e+05  2.848070e+05   \n",
       "mean   ...  1.654067e-16 -3.568593e-16  2.578648e-16  4.473266e-15   \n",
       "std    ...  7.345240e-01  7.257016e-01  6.244603e-01  6.056471e-01   \n",
       "min    ... -3.483038e+01 -1.093314e+01 -4.480774e+01 -2.836627e+00   \n",
       "25%    ... -2.283949e-01 -5.423504e-01 -1.618463e-01 -3.545861e-01   \n",
       "50%    ... -2.945017e-02  6.781943e-03 -1.119293e-02  4.097606e-02   \n",
       "75%    ...  1.863772e-01  5.285536e-01  1.476421e-01  4.395266e-01   \n",
       "max    ...  2.720284e+01  1.050309e+01  2.252841e+01  4.584549e+00   \n",
       "\n",
       "                V25           V26           V27           V28         Amount  \\\n",
       "count  2.848070e+05  2.848070e+05  2.848070e+05  2.848070e+05  284807.000000   \n",
       "mean   5.340915e-16  1.683437e-15 -3.660091e-16 -1.227390e-16      88.349619   \n",
       "std    5.212781e-01  4.822270e-01  4.036325e-01  3.300833e-01     250.120109   \n",
       "min   -1.029540e+01 -2.604551e+00 -2.256568e+01 -1.543008e+01       0.000000   \n",
       "25%   -3.171451e-01 -3.269839e-01 -7.083953e-02 -5.295979e-02       5.600000   \n",
       "50%    1.659350e-02 -5.213911e-02  1.342146e-03  1.124383e-02      22.000000   \n",
       "75%    3.507156e-01  2.409522e-01  9.104512e-02  7.827995e-02      77.165000   \n",
       "max    7.519589e+00  3.517346e+00  3.161220e+01  3.384781e+01   25691.160000   \n",
       "\n",
       "               Class  \n",
       "count  284807.000000  \n",
       "mean        0.001727  \n",
       "std         0.041527  \n",
       "min         0.000000  \n",
       "25%         0.000000  \n",
       "50%         0.000000  \n",
       "75%         0.000000  \n",
       "max         1.000000  \n",
       "\n",
       "[8 rows x 31 columns]"
      ]
     },
     "execution_count": 5,
     "metadata": {},
     "output_type": "execute_result"
    }
   ],
   "source": [
    "df.describe()"
   ]
  },
  {
   "cell_type": "code",
   "execution_count": 6,
   "id": "a9c3cb38",
   "metadata": {
    "execution": {
     "iopub.execute_input": "2022-12-13T09:50:34.983101Z",
     "iopub.status.busy": "2022-12-13T09:50:34.982682Z",
     "iopub.status.idle": "2022-12-13T09:50:35.009387Z",
     "shell.execute_reply": "2022-12-13T09:50:35.008220Z"
    },
    "papermill": {
     "duration": 0.043909,
     "end_time": "2022-12-13T09:50:35.012517",
     "exception": false,
     "start_time": "2022-12-13T09:50:34.968608",
     "status": "completed"
    },
    "tags": []
   },
   "outputs": [
    {
     "data": {
      "text/plain": [
       "Time      0\n",
       "V1        0\n",
       "V2        0\n",
       "V3        0\n",
       "V4        0\n",
       "V5        0\n",
       "V6        0\n",
       "V7        0\n",
       "V8        0\n",
       "V9        0\n",
       "V10       0\n",
       "V11       0\n",
       "V12       0\n",
       "V13       0\n",
       "V14       0\n",
       "V15       0\n",
       "V16       0\n",
       "V17       0\n",
       "V18       0\n",
       "V19       0\n",
       "V20       0\n",
       "V21       0\n",
       "V22       0\n",
       "V23       0\n",
       "V24       0\n",
       "V25       0\n",
       "V26       0\n",
       "V27       0\n",
       "V28       0\n",
       "Amount    0\n",
       "Class     0\n",
       "dtype: int64"
      ]
     },
     "execution_count": 6,
     "metadata": {},
     "output_type": "execute_result"
    }
   ],
   "source": [
    "df.isnull().sum()"
   ]
  },
  {
   "cell_type": "code",
   "execution_count": 7,
   "id": "a4177f20",
   "metadata": {
    "execution": {
     "iopub.execute_input": "2022-12-13T09:50:35.040551Z",
     "iopub.status.busy": "2022-12-13T09:50:35.040149Z",
     "iopub.status.idle": "2022-12-13T09:50:36.222261Z",
     "shell.execute_reply": "2022-12-13T09:50:36.221095Z"
    },
    "papermill": {
     "duration": 1.19911,
     "end_time": "2022-12-13T09:50:36.224769",
     "exception": false,
     "start_time": "2022-12-13T09:50:35.025659",
     "status": "completed"
    },
    "tags": []
   },
   "outputs": [
    {
     "data": {
      "text/plain": [
       "0         False\n",
       "1         False\n",
       "2         False\n",
       "3         False\n",
       "4         False\n",
       "          ...  \n",
       "284802    False\n",
       "284803    False\n",
       "284804    False\n",
       "284805    False\n",
       "284806    False\n",
       "Length: 284807, dtype: bool"
      ]
     },
     "execution_count": 7,
     "metadata": {},
     "output_type": "execute_result"
    }
   ],
   "source": [
    "df.duplicated()"
   ]
  },
  {
   "cell_type": "code",
   "execution_count": 8,
   "id": "4ec8669c",
   "metadata": {
    "execution": {
     "iopub.execute_input": "2022-12-13T09:50:36.251958Z",
     "iopub.status.busy": "2022-12-13T09:50:36.251573Z",
     "iopub.status.idle": "2022-12-13T09:50:36.259072Z",
     "shell.execute_reply": "2022-12-13T09:50:36.257843Z"
    },
    "papermill": {
     "duration": 0.023617,
     "end_time": "2022-12-13T09:50:36.261375",
     "exception": false,
     "start_time": "2022-12-13T09:50:36.237758",
     "status": "completed"
    },
    "tags": []
   },
   "outputs": [
    {
     "data": {
      "text/plain": [
       "(284807, 31)"
      ]
     },
     "execution_count": 8,
     "metadata": {},
     "output_type": "execute_result"
    }
   ],
   "source": [
    "df.shape"
   ]
  },
  {
   "cell_type": "code",
   "execution_count": 9,
   "id": "8aeb094a",
   "metadata": {
    "execution": {
     "iopub.execute_input": "2022-12-13T09:50:36.288196Z",
     "iopub.status.busy": "2022-12-13T09:50:36.287782Z",
     "iopub.status.idle": "2022-12-13T09:50:36.293219Z",
     "shell.execute_reply": "2022-12-13T09:50:36.292004Z"
    },
    "papermill": {
     "duration": 0.021828,
     "end_time": "2022-12-13T09:50:36.295854",
     "exception": false,
     "start_time": "2022-12-13T09:50:36.274026",
     "status": "completed"
    },
    "tags": []
   },
   "outputs": [],
   "source": [
    "Time=df[\"Time\"]\n",
    "npTime= Time.to_numpy().reshape(-1,1)"
   ]
  },
  {
   "cell_type": "code",
   "execution_count": 10,
   "id": "20bbed4e",
   "metadata": {
    "execution": {
     "iopub.execute_input": "2022-12-13T09:50:36.323188Z",
     "iopub.status.busy": "2022-12-13T09:50:36.322773Z",
     "iopub.status.idle": "2022-12-13T09:50:36.488007Z",
     "shell.execute_reply": "2022-12-13T09:50:36.486444Z"
    },
    "papermill": {
     "duration": 0.182278,
     "end_time": "2022-12-13T09:50:36.490767",
     "exception": false,
     "start_time": "2022-12-13T09:50:36.308489",
     "status": "completed"
    },
    "tags": []
   },
   "outputs": [],
   "source": [
    "from sklearn.preprocessing import MinMaxScaler\n",
    "scaler = MinMaxScaler()\n",
    "Scaled_Time = scaler.fit_transform(npTime)\n",
    "Scaled_Time\n",
    "N=[\"New_Time\"]\n"
   ]
  },
  {
   "cell_type": "code",
   "execution_count": 11,
   "id": "9c034437",
   "metadata": {
    "execution": {
     "iopub.execute_input": "2022-12-13T09:50:36.517910Z",
     "iopub.status.busy": "2022-12-13T09:50:36.517550Z",
     "iopub.status.idle": "2022-12-13T09:50:36.527429Z",
     "shell.execute_reply": "2022-12-13T09:50:36.525796Z"
    },
    "papermill": {
     "duration": 0.026789,
     "end_time": "2022-12-13T09:50:36.530287",
     "exception": false,
     "start_time": "2022-12-13T09:50:36.503498",
     "status": "completed"
    },
    "tags": []
   },
   "outputs": [
    {
     "name": "stdout",
     "output_type": "stream",
     "text": [
      "        New_Time\n",
      "0       0.000000\n",
      "1       0.000000\n",
      "2       0.000006\n",
      "3       0.000006\n",
      "4       0.000012\n",
      "...          ...\n",
      "284802  0.999965\n",
      "284803  0.999971\n",
      "284804  0.999977\n",
      "284805  0.999977\n",
      "284806  1.000000\n",
      "\n",
      "[284807 rows x 1 columns]\n"
     ]
    }
   ],
   "source": [
    "df_Time = pd.DataFrame(data=Scaled_Time, columns = N)\n",
    "print(df_Time)"
   ]
  },
  {
   "cell_type": "code",
   "execution_count": 12,
   "id": "39b02fc8",
   "metadata": {
    "execution": {
     "iopub.execute_input": "2022-12-13T09:50:36.557560Z",
     "iopub.status.busy": "2022-12-13T09:50:36.557148Z",
     "iopub.status.idle": "2022-12-13T09:50:36.588055Z",
     "shell.execute_reply": "2022-12-13T09:50:36.586857Z"
    },
    "papermill": {
     "duration": 0.047354,
     "end_time": "2022-12-13T09:50:36.590478",
     "exception": false,
     "start_time": "2022-12-13T09:50:36.543124",
     "status": "completed"
    },
    "tags": []
   },
   "outputs": [],
   "source": [
    "df.drop(columns=[\"Time\"],inplace=True)\n"
   ]
  },
  {
   "cell_type": "code",
   "execution_count": 13,
   "id": "8c97214b",
   "metadata": {
    "execution": {
     "iopub.execute_input": "2022-12-13T09:50:36.618159Z",
     "iopub.status.busy": "2022-12-13T09:50:36.617618Z",
     "iopub.status.idle": "2022-12-13T09:50:36.677380Z",
     "shell.execute_reply": "2022-12-13T09:50:36.676128Z"
    },
    "papermill": {
     "duration": 0.076883,
     "end_time": "2022-12-13T09:50:36.680167",
     "exception": false,
     "start_time": "2022-12-13T09:50:36.603284",
     "status": "completed"
    },
    "tags": []
   },
   "outputs": [
    {
     "data": {
      "text/html": [
       "<div>\n",
       "<style scoped>\n",
       "    .dataframe tbody tr th:only-of-type {\n",
       "        vertical-align: middle;\n",
       "    }\n",
       "\n",
       "    .dataframe tbody tr th {\n",
       "        vertical-align: top;\n",
       "    }\n",
       "\n",
       "    .dataframe thead th {\n",
       "        text-align: right;\n",
       "    }\n",
       "</style>\n",
       "<table border=\"1\" class=\"dataframe\">\n",
       "  <thead>\n",
       "    <tr style=\"text-align: right;\">\n",
       "      <th></th>\n",
       "      <th>V1</th>\n",
       "      <th>V2</th>\n",
       "      <th>V3</th>\n",
       "      <th>V4</th>\n",
       "      <th>V5</th>\n",
       "      <th>V6</th>\n",
       "      <th>V7</th>\n",
       "      <th>V8</th>\n",
       "      <th>V9</th>\n",
       "      <th>V10</th>\n",
       "      <th>...</th>\n",
       "      <th>V22</th>\n",
       "      <th>V23</th>\n",
       "      <th>V24</th>\n",
       "      <th>V25</th>\n",
       "      <th>V26</th>\n",
       "      <th>V27</th>\n",
       "      <th>V28</th>\n",
       "      <th>Amount</th>\n",
       "      <th>Class</th>\n",
       "      <th>New_Time</th>\n",
       "    </tr>\n",
       "  </thead>\n",
       "  <tbody>\n",
       "    <tr>\n",
       "      <th>0</th>\n",
       "      <td>-1.359807</td>\n",
       "      <td>-0.072781</td>\n",
       "      <td>2.536347</td>\n",
       "      <td>1.378155</td>\n",
       "      <td>-0.338321</td>\n",
       "      <td>0.462388</td>\n",
       "      <td>0.239599</td>\n",
       "      <td>0.098698</td>\n",
       "      <td>0.363787</td>\n",
       "      <td>0.090794</td>\n",
       "      <td>...</td>\n",
       "      <td>0.277838</td>\n",
       "      <td>-0.110474</td>\n",
       "      <td>0.066928</td>\n",
       "      <td>0.128539</td>\n",
       "      <td>-0.189115</td>\n",
       "      <td>0.133558</td>\n",
       "      <td>-0.021053</td>\n",
       "      <td>149.62</td>\n",
       "      <td>0</td>\n",
       "      <td>0.000000</td>\n",
       "    </tr>\n",
       "    <tr>\n",
       "      <th>1</th>\n",
       "      <td>1.191857</td>\n",
       "      <td>0.266151</td>\n",
       "      <td>0.166480</td>\n",
       "      <td>0.448154</td>\n",
       "      <td>0.060018</td>\n",
       "      <td>-0.082361</td>\n",
       "      <td>-0.078803</td>\n",
       "      <td>0.085102</td>\n",
       "      <td>-0.255425</td>\n",
       "      <td>-0.166974</td>\n",
       "      <td>...</td>\n",
       "      <td>-0.638672</td>\n",
       "      <td>0.101288</td>\n",
       "      <td>-0.339846</td>\n",
       "      <td>0.167170</td>\n",
       "      <td>0.125895</td>\n",
       "      <td>-0.008983</td>\n",
       "      <td>0.014724</td>\n",
       "      <td>2.69</td>\n",
       "      <td>0</td>\n",
       "      <td>0.000000</td>\n",
       "    </tr>\n",
       "    <tr>\n",
       "      <th>2</th>\n",
       "      <td>-1.358354</td>\n",
       "      <td>-1.340163</td>\n",
       "      <td>1.773209</td>\n",
       "      <td>0.379780</td>\n",
       "      <td>-0.503198</td>\n",
       "      <td>1.800499</td>\n",
       "      <td>0.791461</td>\n",
       "      <td>0.247676</td>\n",
       "      <td>-1.514654</td>\n",
       "      <td>0.207643</td>\n",
       "      <td>...</td>\n",
       "      <td>0.771679</td>\n",
       "      <td>0.909412</td>\n",
       "      <td>-0.689281</td>\n",
       "      <td>-0.327642</td>\n",
       "      <td>-0.139097</td>\n",
       "      <td>-0.055353</td>\n",
       "      <td>-0.059752</td>\n",
       "      <td>378.66</td>\n",
       "      <td>0</td>\n",
       "      <td>0.000006</td>\n",
       "    </tr>\n",
       "    <tr>\n",
       "      <th>3</th>\n",
       "      <td>-0.966272</td>\n",
       "      <td>-0.185226</td>\n",
       "      <td>1.792993</td>\n",
       "      <td>-0.863291</td>\n",
       "      <td>-0.010309</td>\n",
       "      <td>1.247203</td>\n",
       "      <td>0.237609</td>\n",
       "      <td>0.377436</td>\n",
       "      <td>-1.387024</td>\n",
       "      <td>-0.054952</td>\n",
       "      <td>...</td>\n",
       "      <td>0.005274</td>\n",
       "      <td>-0.190321</td>\n",
       "      <td>-1.175575</td>\n",
       "      <td>0.647376</td>\n",
       "      <td>-0.221929</td>\n",
       "      <td>0.062723</td>\n",
       "      <td>0.061458</td>\n",
       "      <td>123.50</td>\n",
       "      <td>0</td>\n",
       "      <td>0.000006</td>\n",
       "    </tr>\n",
       "    <tr>\n",
       "      <th>4</th>\n",
       "      <td>-1.158233</td>\n",
       "      <td>0.877737</td>\n",
       "      <td>1.548718</td>\n",
       "      <td>0.403034</td>\n",
       "      <td>-0.407193</td>\n",
       "      <td>0.095921</td>\n",
       "      <td>0.592941</td>\n",
       "      <td>-0.270533</td>\n",
       "      <td>0.817739</td>\n",
       "      <td>0.753074</td>\n",
       "      <td>...</td>\n",
       "      <td>0.798278</td>\n",
       "      <td>-0.137458</td>\n",
       "      <td>0.141267</td>\n",
       "      <td>-0.206010</td>\n",
       "      <td>0.502292</td>\n",
       "      <td>0.219422</td>\n",
       "      <td>0.215153</td>\n",
       "      <td>69.99</td>\n",
       "      <td>0</td>\n",
       "      <td>0.000012</td>\n",
       "    </tr>\n",
       "  </tbody>\n",
       "</table>\n",
       "<p>5 rows × 31 columns</p>\n",
       "</div>"
      ],
      "text/plain": [
       "         V1        V2        V3        V4        V5        V6        V7  \\\n",
       "0 -1.359807 -0.072781  2.536347  1.378155 -0.338321  0.462388  0.239599   \n",
       "1  1.191857  0.266151  0.166480  0.448154  0.060018 -0.082361 -0.078803   \n",
       "2 -1.358354 -1.340163  1.773209  0.379780 -0.503198  1.800499  0.791461   \n",
       "3 -0.966272 -0.185226  1.792993 -0.863291 -0.010309  1.247203  0.237609   \n",
       "4 -1.158233  0.877737  1.548718  0.403034 -0.407193  0.095921  0.592941   \n",
       "\n",
       "         V8        V9       V10  ...       V22       V23       V24       V25  \\\n",
       "0  0.098698  0.363787  0.090794  ...  0.277838 -0.110474  0.066928  0.128539   \n",
       "1  0.085102 -0.255425 -0.166974  ... -0.638672  0.101288 -0.339846  0.167170   \n",
       "2  0.247676 -1.514654  0.207643  ...  0.771679  0.909412 -0.689281 -0.327642   \n",
       "3  0.377436 -1.387024 -0.054952  ...  0.005274 -0.190321 -1.175575  0.647376   \n",
       "4 -0.270533  0.817739  0.753074  ...  0.798278 -0.137458  0.141267 -0.206010   \n",
       "\n",
       "        V26       V27       V28  Amount  Class  New_Time  \n",
       "0 -0.189115  0.133558 -0.021053  149.62      0  0.000000  \n",
       "1  0.125895 -0.008983  0.014724    2.69      0  0.000000  \n",
       "2 -0.139097 -0.055353 -0.059752  378.66      0  0.000006  \n",
       "3 -0.221929  0.062723  0.061458  123.50      0  0.000006  \n",
       "4  0.502292  0.219422  0.215153   69.99      0  0.000012  \n",
       "\n",
       "[5 rows x 31 columns]"
      ]
     },
     "execution_count": 13,
     "metadata": {},
     "output_type": "execute_result"
    }
   ],
   "source": [
    "train= pd.concat([df,df_Time],axis=1)\n",
    "train.head()"
   ]
  },
  {
   "cell_type": "markdown",
   "id": "95548861",
   "metadata": {
    "papermill": {
     "duration": 0.012589,
     "end_time": "2022-12-13T09:50:36.705860",
     "exception": false,
     "start_time": "2022-12-13T09:50:36.693271",
     "status": "completed"
    },
    "tags": []
   },
   "source": [
    "<a id= \"2\"></a>\n",
    "# Data Preparation"
   ]
  },
  {
   "cell_type": "code",
   "execution_count": 14,
   "id": "0526f9da",
   "metadata": {
    "execution": {
     "iopub.execute_input": "2022-12-13T09:50:36.734175Z",
     "iopub.status.busy": "2022-12-13T09:50:36.733785Z",
     "iopub.status.idle": "2022-12-13T09:50:43.320109Z",
     "shell.execute_reply": "2022-12-13T09:50:43.319128Z"
    },
    "papermill": {
     "duration": 6.607984,
     "end_time": "2022-12-13T09:50:43.327155",
     "exception": false,
     "start_time": "2022-12-13T09:50:36.719171",
     "status": "completed"
    },
    "tags": []
   },
   "outputs": [
    {
     "data": {
      "text/plain": [
       "<AxesSubplot:>"
      ]
     },
     "execution_count": 14,
     "metadata": {},
     "output_type": "execute_result"
    },
    {
     "data": {
      "image/png": "[encoded data removed]",
      "text/plain": [
       "<Figure size 2160x2880 with 2 Axes>"
      ]
     },
     "metadata": {
      "needs_background": "light"
     },
     "output_type": "display_data"
    }
   ],
   "source": [
    "corr= train.corr()\n",
    "plt.figure(figsize=(30,40))\n",
    "sns.heatmap(corr,annot=True)"
   ]
  },
  {
   "cell_type": "code",
   "execution_count": 15,
   "id": "8409fd9c",
   "metadata": {
    "execution": {
     "iopub.execute_input": "2022-12-13T09:50:43.366984Z",
     "iopub.status.busy": "2022-12-13T09:50:43.366285Z",
     "iopub.status.idle": "2022-12-13T09:50:43.587312Z",
     "shell.execute_reply": "2022-12-13T09:50:43.586002Z"
    },
    "papermill": {
     "duration": 0.244186,
     "end_time": "2022-12-13T09:50:43.590055",
     "exception": false,
     "start_time": "2022-12-13T09:50:43.345869",
     "status": "completed"
    },
    "tags": []
   },
   "outputs": [
    {
     "data": {
      "text/plain": [
       "<AxesSubplot:xlabel='Class', ylabel='count'>"
      ]
     },
     "execution_count": 15,
     "metadata": {},
     "output_type": "execute_result"
    },
    {
     "data": {
      "image/png": "[encoded data removed]",
      "text/plain": [
       "<Figure size 432x288 with 1 Axes>"
      ]
     },
     "metadata": {
      "needs_background": "light"
     },
     "output_type": "display_data"
    }
   ],
   "source": [
    "sns.countplot(train[\"Class\"])"
   ]
  },
  {
   "cell_type": "code",
   "execution_count": 16,
   "id": "fd6914c4",
   "metadata": {
    "execution": {
     "iopub.execute_input": "2022-12-13T09:50:43.630256Z",
     "iopub.status.busy": "2022-12-13T09:50:43.629800Z",
     "iopub.status.idle": "2022-12-13T09:50:43.733704Z",
     "shell.execute_reply": "2022-12-13T09:50:43.732722Z"
    },
    "papermill": {
     "duration": 0.126701,
     "end_time": "2022-12-13T09:50:43.736214",
     "exception": false,
     "start_time": "2022-12-13T09:50:43.609513",
     "status": "completed"
    },
    "tags": []
   },
   "outputs": [],
   "source": [
    "legit = train[train[\"Class\"]==0]\n",
    "fraud = train[train[\"Class\"]==1]"
   ]
  },
  {
   "cell_type": "markdown",
   "id": "eaa41cad",
   "metadata": {
    "papermill": {
     "duration": 0.018302,
     "end_time": "2022-12-13T09:50:43.773320",
     "exception": false,
     "start_time": "2022-12-13T09:50:43.755018",
     "status": "completed"
    },
    "tags": []
   },
   "source": [
    "Notes:\n",
    "* Legit is indicated as 0.\n",
    "* Fraud is indicated as 1."
   ]
  },
  {
   "cell_type": "code",
   "execution_count": 17,
   "id": "be8d3d76",
   "metadata": {
    "execution": {
     "iopub.execute_input": "2022-12-13T09:50:43.812872Z",
     "iopub.status.busy": "2022-12-13T09:50:43.812074Z",
     "iopub.status.idle": "2022-12-13T09:50:44.316003Z",
     "shell.execute_reply": "2022-12-13T09:50:44.314809Z"
    },
    "papermill": {
     "duration": 0.526573,
     "end_time": "2022-12-13T09:50:44.318723",
     "exception": false,
     "start_time": "2022-12-13T09:50:43.792150",
     "status": "completed"
    },
    "tags": []
   },
   "outputs": [
    {
     "data": {
      "text/html": [
       "<div>\n",
       "<style scoped>\n",
       "    .dataframe tbody tr th:only-of-type {\n",
       "        vertical-align: middle;\n",
       "    }\n",
       "\n",
       "    .dataframe tbody tr th {\n",
       "        vertical-align: top;\n",
       "    }\n",
       "\n",
       "    .dataframe thead th {\n",
       "        text-align: right;\n",
       "    }\n",
       "</style>\n",
       "<table border=\"1\" class=\"dataframe\">\n",
       "  <thead>\n",
       "    <tr style=\"text-align: right;\">\n",
       "      <th></th>\n",
       "      <th>V1</th>\n",
       "      <th>V2</th>\n",
       "      <th>V3</th>\n",
       "      <th>V4</th>\n",
       "      <th>V5</th>\n",
       "      <th>V6</th>\n",
       "      <th>V7</th>\n",
       "      <th>V8</th>\n",
       "      <th>V9</th>\n",
       "      <th>V10</th>\n",
       "      <th>...</th>\n",
       "      <th>V22</th>\n",
       "      <th>V23</th>\n",
       "      <th>V24</th>\n",
       "      <th>V25</th>\n",
       "      <th>V26</th>\n",
       "      <th>V27</th>\n",
       "      <th>V28</th>\n",
       "      <th>Amount</th>\n",
       "      <th>Class</th>\n",
       "      <th>New_Time</th>\n",
       "    </tr>\n",
       "  </thead>\n",
       "  <tbody>\n",
       "    <tr>\n",
       "      <th>count</th>\n",
       "      <td>284315.000000</td>\n",
       "      <td>284315.000000</td>\n",
       "      <td>284315.000000</td>\n",
       "      <td>284315.000000</td>\n",
       "      <td>284315.000000</td>\n",
       "      <td>284315.000000</td>\n",
       "      <td>284315.000000</td>\n",
       "      <td>284315.000000</td>\n",
       "      <td>284315.000000</td>\n",
       "      <td>284315.000000</td>\n",
       "      <td>...</td>\n",
       "      <td>284315.000000</td>\n",
       "      <td>284315.000000</td>\n",
       "      <td>284315.000000</td>\n",
       "      <td>284315.000000</td>\n",
       "      <td>284315.000000</td>\n",
       "      <td>284315.000000</td>\n",
       "      <td>284315.000000</td>\n",
       "      <td>284315.000000</td>\n",
       "      <td>284315.0</td>\n",
       "      <td>284315.000000</td>\n",
       "    </tr>\n",
       "    <tr>\n",
       "      <th>mean</th>\n",
       "      <td>0.008258</td>\n",
       "      <td>-0.006271</td>\n",
       "      <td>0.012171</td>\n",
       "      <td>-0.007860</td>\n",
       "      <td>0.005453</td>\n",
       "      <td>0.002419</td>\n",
       "      <td>0.009637</td>\n",
       "      <td>-0.000987</td>\n",
       "      <td>0.004467</td>\n",
       "      <td>0.009824</td>\n",
       "      <td>...</td>\n",
       "      <td>-0.000024</td>\n",
       "      <td>0.000070</td>\n",
       "      <td>0.000182</td>\n",
       "      <td>-0.000072</td>\n",
       "      <td>-0.000089</td>\n",
       "      <td>-0.000295</td>\n",
       "      <td>-0.000131</td>\n",
       "      <td>88.291022</td>\n",
       "      <td>0.0</td>\n",
       "      <td>0.548858</td>\n",
       "    </tr>\n",
       "    <tr>\n",
       "      <th>std</th>\n",
       "      <td>1.929814</td>\n",
       "      <td>1.636146</td>\n",
       "      <td>1.459429</td>\n",
       "      <td>1.399333</td>\n",
       "      <td>1.356952</td>\n",
       "      <td>1.329913</td>\n",
       "      <td>1.178812</td>\n",
       "      <td>1.161283</td>\n",
       "      <td>1.089372</td>\n",
       "      <td>1.044204</td>\n",
       "      <td>...</td>\n",
       "      <td>0.723668</td>\n",
       "      <td>0.621541</td>\n",
       "      <td>0.605776</td>\n",
       "      <td>0.520673</td>\n",
       "      <td>0.482241</td>\n",
       "      <td>0.399847</td>\n",
       "      <td>0.329570</td>\n",
       "      <td>250.105092</td>\n",
       "      <td>0.0</td>\n",
       "      <td>0.274804</td>\n",
       "    </tr>\n",
       "    <tr>\n",
       "      <th>min</th>\n",
       "      <td>-56.407510</td>\n",
       "      <td>-72.715728</td>\n",
       "      <td>-48.325589</td>\n",
       "      <td>-5.683171</td>\n",
       "      <td>-113.743307</td>\n",
       "      <td>-26.160506</td>\n",
       "      <td>-31.764946</td>\n",
       "      <td>-73.216718</td>\n",
       "      <td>-6.290730</td>\n",
       "      <td>-14.741096</td>\n",
       "      <td>...</td>\n",
       "      <td>-10.933144</td>\n",
       "      <td>-44.807735</td>\n",
       "      <td>-2.836627</td>\n",
       "      <td>-10.295397</td>\n",
       "      <td>-2.604551</td>\n",
       "      <td>-22.565679</td>\n",
       "      <td>-15.430084</td>\n",
       "      <td>0.000000</td>\n",
       "      <td>0.0</td>\n",
       "      <td>0.000000</td>\n",
       "    </tr>\n",
       "    <tr>\n",
       "      <th>25%</th>\n",
       "      <td>-0.917544</td>\n",
       "      <td>-0.599473</td>\n",
       "      <td>-0.884541</td>\n",
       "      <td>-0.850077</td>\n",
       "      <td>-0.689398</td>\n",
       "      <td>-0.766847</td>\n",
       "      <td>-0.551442</td>\n",
       "      <td>-0.208633</td>\n",
       "      <td>-0.640412</td>\n",
       "      <td>-0.532880</td>\n",
       "      <td>...</td>\n",
       "      <td>-0.542403</td>\n",
       "      <td>-0.161702</td>\n",
       "      <td>-0.354425</td>\n",
       "      <td>-0.317145</td>\n",
       "      <td>-0.327074</td>\n",
       "      <td>-0.070852</td>\n",
       "      <td>-0.052950</td>\n",
       "      <td>5.650000</td>\n",
       "      <td>0.0</td>\n",
       "      <td>0.313846</td>\n",
       "    </tr>\n",
       "    <tr>\n",
       "      <th>50%</th>\n",
       "      <td>0.020023</td>\n",
       "      <td>0.064070</td>\n",
       "      <td>0.182158</td>\n",
       "      <td>-0.022405</td>\n",
       "      <td>-0.053457</td>\n",
       "      <td>-0.273123</td>\n",
       "      <td>0.041138</td>\n",
       "      <td>0.022041</td>\n",
       "      <td>-0.049964</td>\n",
       "      <td>-0.091872</td>\n",
       "      <td>...</td>\n",
       "      <td>0.006736</td>\n",
       "      <td>-0.011147</td>\n",
       "      <td>0.041082</td>\n",
       "      <td>0.016417</td>\n",
       "      <td>-0.052227</td>\n",
       "      <td>0.001230</td>\n",
       "      <td>0.011199</td>\n",
       "      <td>22.000000</td>\n",
       "      <td>0.0</td>\n",
       "      <td>0.490248</td>\n",
       "    </tr>\n",
       "    <tr>\n",
       "      <th>75%</th>\n",
       "      <td>1.316218</td>\n",
       "      <td>0.800446</td>\n",
       "      <td>1.028372</td>\n",
       "      <td>0.737624</td>\n",
       "      <td>0.612181</td>\n",
       "      <td>0.399619</td>\n",
       "      <td>0.571019</td>\n",
       "      <td>0.326200</td>\n",
       "      <td>0.598230</td>\n",
       "      <td>0.455135</td>\n",
       "      <td>...</td>\n",
       "      <td>0.528407</td>\n",
       "      <td>0.147522</td>\n",
       "      <td>0.439869</td>\n",
       "      <td>0.350594</td>\n",
       "      <td>0.240671</td>\n",
       "      <td>0.090573</td>\n",
       "      <td>0.077962</td>\n",
       "      <td>77.050000</td>\n",
       "      <td>0.0</td>\n",
       "      <td>0.806363</td>\n",
       "    </tr>\n",
       "    <tr>\n",
       "      <th>max</th>\n",
       "      <td>2.454930</td>\n",
       "      <td>18.902453</td>\n",
       "      <td>9.382558</td>\n",
       "      <td>16.875344</td>\n",
       "      <td>34.801666</td>\n",
       "      <td>73.301626</td>\n",
       "      <td>120.589494</td>\n",
       "      <td>18.709255</td>\n",
       "      <td>15.594995</td>\n",
       "      <td>23.745136</td>\n",
       "      <td>...</td>\n",
       "      <td>10.503090</td>\n",
       "      <td>22.528412</td>\n",
       "      <td>4.584549</td>\n",
       "      <td>7.519589</td>\n",
       "      <td>3.517346</td>\n",
       "      <td>31.612198</td>\n",
       "      <td>33.847808</td>\n",
       "      <td>25691.160000</td>\n",
       "      <td>0.0</td>\n",
       "      <td>1.000000</td>\n",
       "    </tr>\n",
       "  </tbody>\n",
       "</table>\n",
       "<p>8 rows × 31 columns</p>\n",
       "</div>"
      ],
      "text/plain": [
       "                  V1             V2             V3             V4  \\\n",
       "count  284315.000000  284315.000000  284315.000000  284315.000000   \n",
       "mean        0.008258      -0.006271       0.012171      -0.007860   \n",
       "std         1.929814       1.636146       1.459429       1.399333   \n",
       "min       -56.407510     -72.715728     -48.325589      -5.683171   \n",
       "25%        -0.917544      -0.599473      -0.884541      -0.850077   \n",
       "50%         0.020023       0.064070       0.182158      -0.022405   \n",
       "75%         1.316218       0.800446       1.028372       0.737624   \n",
       "max         2.454930      18.902453       9.382558      16.875344   \n",
       "\n",
       "                  V5             V6             V7             V8  \\\n",
       "count  284315.000000  284315.000000  284315.000000  284315.000000   \n",
       "mean        0.005453       0.002419       0.009637      -0.000987   \n",
       "std         1.356952       1.329913       1.178812       1.161283   \n",
       "min      -113.743307     -26.160506     -31.764946     -73.216718   \n",
       "25%        -0.689398      -0.766847      -0.551442      -0.208633   \n",
       "50%        -0.053457      -0.273123       0.041138       0.022041   \n",
       "75%         0.612181       0.399619       0.571019       0.326200   \n",
       "max        34.801666      73.301626     120.589494      18.709255   \n",
       "\n",
       "                  V9            V10  ...            V22            V23  \\\n",
       "count  284315.000000  284315.000000  ...  284315.000000  284315.000000   \n",
       "mean        0.004467       0.009824  ...      -0.000024       0.000070   \n",
       "std         1.089372       1.044204  ...       0.723668       0.621541   \n",
       "min        -6.290730     -14.741096  ...     -10.933144     -44.807735   \n",
       "25%        -0.640412      -0.532880  ...      -0.542403      -0.161702   \n",
       "50%        -0.049964      -0.091872  ...       0.006736      -0.011147   \n",
       "75%         0.598230       0.455135  ...       0.528407       0.147522   \n",
       "max        15.594995      23.745136  ...      10.503090      22.528412   \n",
       "\n",
       "                 V24            V25            V26            V27  \\\n",
       "count  284315.000000  284315.000000  284315.000000  284315.000000   \n",
       "mean        0.000182      -0.000072      -0.000089      -0.000295   \n",
       "std         0.605776       0.520673       0.482241       0.399847   \n",
       "min        -2.836627     -10.295397      -2.604551     -22.565679   \n",
       "25%        -0.354425      -0.317145      -0.327074      -0.070852   \n",
       "50%         0.041082       0.016417      -0.052227       0.001230   \n",
       "75%         0.439869       0.350594       0.240671       0.090573   \n",
       "max         4.584549       7.519589       3.517346      31.612198   \n",
       "\n",
       "                 V28         Amount     Class       New_Time  \n",
       "count  284315.000000  284315.000000  284315.0  284315.000000  \n",
       "mean       -0.000131      88.291022       0.0       0.548858  \n",
       "std         0.329570     250.105092       0.0       0.274804  \n",
       "min       -15.430084       0.000000       0.0       0.000000  \n",
       "25%        -0.052950       5.650000       0.0       0.313846  \n",
       "50%         0.011199      22.000000       0.0       0.490248  \n",
       "75%         0.077962      77.050000       0.0       0.806363  \n",
       "max        33.847808   25691.160000       0.0       1.000000  \n",
       "\n",
       "[8 rows x 31 columns]"
      ]
     },
     "execution_count": 17,
     "metadata": {},
     "output_type": "execute_result"
    }
   ],
   "source": [
    "legit.describe()"
   ]
  },
  {
   "cell_type": "code",
   "execution_count": 18,
   "id": "3132879a",
   "metadata": {
    "execution": {
     "iopub.execute_input": "2022-12-13T09:50:44.359986Z",
     "iopub.status.busy": "2022-12-13T09:50:44.359568Z",
     "iopub.status.idle": "2022-12-13T09:50:44.452966Z",
     "shell.execute_reply": "2022-12-13T09:50:44.451761Z"
    },
    "papermill": {
     "duration": 0.117282,
     "end_time": "2022-12-13T09:50:44.455681",
     "exception": false,
     "start_time": "2022-12-13T09:50:44.338399",
     "status": "completed"
    },
    "tags": []
   },
   "outputs": [
    {
     "data": {
      "text/html": [
       "<div>\n",
       "<style scoped>\n",
       "    .dataframe tbody tr th:only-of-type {\n",
       "        vertical-align: middle;\n",
       "    }\n",
       "\n",
       "    .dataframe tbody tr th {\n",
       "        vertical-align: top;\n",
       "    }\n",
       "\n",
       "    .dataframe thead th {\n",
       "        text-align: right;\n",
       "    }\n",
       "</style>\n",
       "<table border=\"1\" class=\"dataframe\">\n",
       "  <thead>\n",
       "    <tr style=\"text-align: right;\">\n",
       "      <th></th>\n",
       "      <th>V1</th>\n",
       "      <th>V2</th>\n",
       "      <th>V3</th>\n",
       "      <th>V4</th>\n",
       "      <th>V5</th>\n",
       "      <th>V6</th>\n",
       "      <th>V7</th>\n",
       "      <th>V8</th>\n",
       "      <th>V9</th>\n",
       "      <th>V10</th>\n",
       "      <th>...</th>\n",
       "      <th>V22</th>\n",
       "      <th>V23</th>\n",
       "      <th>V24</th>\n",
       "      <th>V25</th>\n",
       "      <th>V26</th>\n",
       "      <th>V27</th>\n",
       "      <th>V28</th>\n",
       "      <th>Amount</th>\n",
       "      <th>Class</th>\n",
       "      <th>New_Time</th>\n",
       "    </tr>\n",
       "  </thead>\n",
       "  <tbody>\n",
       "    <tr>\n",
       "      <th>count</th>\n",
       "      <td>492.000000</td>\n",
       "      <td>492.000000</td>\n",
       "      <td>492.000000</td>\n",
       "      <td>492.000000</td>\n",
       "      <td>492.000000</td>\n",
       "      <td>492.000000</td>\n",
       "      <td>492.000000</td>\n",
       "      <td>492.000000</td>\n",
       "      <td>492.000000</td>\n",
       "      <td>492.000000</td>\n",
       "      <td>...</td>\n",
       "      <td>492.000000</td>\n",
       "      <td>492.000000</td>\n",
       "      <td>492.000000</td>\n",
       "      <td>492.000000</td>\n",
       "      <td>492.000000</td>\n",
       "      <td>492.000000</td>\n",
       "      <td>492.000000</td>\n",
       "      <td>492.000000</td>\n",
       "      <td>492.0</td>\n",
       "      <td>492.000000</td>\n",
       "    </tr>\n",
       "    <tr>\n",
       "      <th>mean</th>\n",
       "      <td>-4.771948</td>\n",
       "      <td>3.623778</td>\n",
       "      <td>-7.033281</td>\n",
       "      <td>4.542029</td>\n",
       "      <td>-3.151225</td>\n",
       "      <td>-1.397737</td>\n",
       "      <td>-5.568731</td>\n",
       "      <td>0.570636</td>\n",
       "      <td>-2.581123</td>\n",
       "      <td>-5.676883</td>\n",
       "      <td>...</td>\n",
       "      <td>0.014049</td>\n",
       "      <td>-0.040308</td>\n",
       "      <td>-0.105130</td>\n",
       "      <td>0.041449</td>\n",
       "      <td>0.051648</td>\n",
       "      <td>0.170575</td>\n",
       "      <td>0.075667</td>\n",
       "      <td>122.211321</td>\n",
       "      <td>1.0</td>\n",
       "      <td>0.467306</td>\n",
       "    </tr>\n",
       "    <tr>\n",
       "      <th>std</th>\n",
       "      <td>6.783687</td>\n",
       "      <td>4.291216</td>\n",
       "      <td>7.110937</td>\n",
       "      <td>2.873318</td>\n",
       "      <td>5.372468</td>\n",
       "      <td>1.858124</td>\n",
       "      <td>7.206773</td>\n",
       "      <td>6.797831</td>\n",
       "      <td>2.500896</td>\n",
       "      <td>4.897341</td>\n",
       "      <td>...</td>\n",
       "      <td>1.494602</td>\n",
       "      <td>1.579642</td>\n",
       "      <td>0.515577</td>\n",
       "      <td>0.797205</td>\n",
       "      <td>0.471679</td>\n",
       "      <td>1.376766</td>\n",
       "      <td>0.547291</td>\n",
       "      <td>256.683288</td>\n",
       "      <td>0.0</td>\n",
       "      <td>0.276838</td>\n",
       "    </tr>\n",
       "    <tr>\n",
       "      <th>min</th>\n",
       "      <td>-30.552380</td>\n",
       "      <td>-8.402154</td>\n",
       "      <td>-31.103685</td>\n",
       "      <td>-1.313275</td>\n",
       "      <td>-22.105532</td>\n",
       "      <td>-6.406267</td>\n",
       "      <td>-43.557242</td>\n",
       "      <td>-41.044261</td>\n",
       "      <td>-13.434066</td>\n",
       "      <td>-24.588262</td>\n",
       "      <td>...</td>\n",
       "      <td>-8.887017</td>\n",
       "      <td>-19.254328</td>\n",
       "      <td>-2.028024</td>\n",
       "      <td>-4.781606</td>\n",
       "      <td>-1.152671</td>\n",
       "      <td>-7.263482</td>\n",
       "      <td>-1.869290</td>\n",
       "      <td>0.000000</td>\n",
       "      <td>1.0</td>\n",
       "      <td>0.002350</td>\n",
       "    </tr>\n",
       "    <tr>\n",
       "      <th>25%</th>\n",
       "      <td>-6.036063</td>\n",
       "      <td>1.188226</td>\n",
       "      <td>-8.643489</td>\n",
       "      <td>2.373050</td>\n",
       "      <td>-4.792835</td>\n",
       "      <td>-2.501511</td>\n",
       "      <td>-7.965295</td>\n",
       "      <td>-0.195336</td>\n",
       "      <td>-3.872383</td>\n",
       "      <td>-7.756698</td>\n",
       "      <td>...</td>\n",
       "      <td>-0.533764</td>\n",
       "      <td>-0.342175</td>\n",
       "      <td>-0.436809</td>\n",
       "      <td>-0.314348</td>\n",
       "      <td>-0.259416</td>\n",
       "      <td>-0.020025</td>\n",
       "      <td>-0.108868</td>\n",
       "      <td>1.000000</td>\n",
       "      <td>1.0</td>\n",
       "      <td>0.238677</td>\n",
       "    </tr>\n",
       "    <tr>\n",
       "      <th>50%</th>\n",
       "      <td>-2.342497</td>\n",
       "      <td>2.717869</td>\n",
       "      <td>-5.075257</td>\n",
       "      <td>4.177147</td>\n",
       "      <td>-1.522962</td>\n",
       "      <td>-1.424616</td>\n",
       "      <td>-3.034402</td>\n",
       "      <td>0.621508</td>\n",
       "      <td>-2.208768</td>\n",
       "      <td>-4.578825</td>\n",
       "      <td>...</td>\n",
       "      <td>0.048434</td>\n",
       "      <td>-0.073135</td>\n",
       "      <td>-0.060795</td>\n",
       "      <td>0.088371</td>\n",
       "      <td>0.004321</td>\n",
       "      <td>0.394926</td>\n",
       "      <td>0.146344</td>\n",
       "      <td>9.250000</td>\n",
       "      <td>1.0</td>\n",
       "      <td>0.437338</td>\n",
       "    </tr>\n",
       "    <tr>\n",
       "      <th>75%</th>\n",
       "      <td>-0.419200</td>\n",
       "      <td>4.971257</td>\n",
       "      <td>-2.276185</td>\n",
       "      <td>6.348729</td>\n",
       "      <td>0.214562</td>\n",
       "      <td>-0.413216</td>\n",
       "      <td>-0.945954</td>\n",
       "      <td>1.764879</td>\n",
       "      <td>-0.787850</td>\n",
       "      <td>-2.614184</td>\n",
       "      <td>...</td>\n",
       "      <td>0.617474</td>\n",
       "      <td>0.308378</td>\n",
       "      <td>0.285328</td>\n",
       "      <td>0.456515</td>\n",
       "      <td>0.396733</td>\n",
       "      <td>0.826029</td>\n",
       "      <td>0.381152</td>\n",
       "      <td>105.890000</td>\n",
       "      <td>1.0</td>\n",
       "      <td>0.743570</td>\n",
       "    </tr>\n",
       "    <tr>\n",
       "      <th>max</th>\n",
       "      <td>2.132386</td>\n",
       "      <td>22.057729</td>\n",
       "      <td>2.250210</td>\n",
       "      <td>12.114672</td>\n",
       "      <td>11.095089</td>\n",
       "      <td>6.474115</td>\n",
       "      <td>5.802537</td>\n",
       "      <td>20.007208</td>\n",
       "      <td>3.353525</td>\n",
       "      <td>4.031435</td>\n",
       "      <td>...</td>\n",
       "      <td>8.361985</td>\n",
       "      <td>5.466230</td>\n",
       "      <td>1.091435</td>\n",
       "      <td>2.208209</td>\n",
       "      <td>2.745261</td>\n",
       "      <td>3.052358</td>\n",
       "      <td>1.779364</td>\n",
       "      <td>2125.870000</td>\n",
       "      <td>1.0</td>\n",
       "      <td>0.985856</td>\n",
       "    </tr>\n",
       "  </tbody>\n",
       "</table>\n",
       "<p>8 rows × 31 columns</p>\n",
       "</div>"
      ],
      "text/plain": [
       "               V1          V2          V3          V4          V5          V6  \\\n",
       "count  492.000000  492.000000  492.000000  492.000000  492.000000  492.000000   \n",
       "mean    -4.771948    3.623778   -7.033281    4.542029   -3.151225   -1.397737   \n",
       "std      6.783687    4.291216    7.110937    2.873318    5.372468    1.858124   \n",
       "min    -30.552380   -8.402154  -31.103685   -1.313275  -22.105532   -6.406267   \n",
       "25%     -6.036063    1.188226   -8.643489    2.373050   -4.792835   -2.501511   \n",
       "50%     -2.342497    2.717869   -5.075257    4.177147   -1.522962   -1.424616   \n",
       "75%     -0.419200    4.971257   -2.276185    6.348729    0.214562   -0.413216   \n",
       "max      2.132386   22.057729    2.250210   12.114672   11.095089    6.474115   \n",
       "\n",
       "               V7          V8          V9         V10  ...         V22  \\\n",
       "count  492.000000  492.000000  492.000000  492.000000  ...  492.000000   \n",
       "mean    -5.568731    0.570636   -2.581123   -5.676883  ...    0.014049   \n",
       "std      7.206773    6.797831    2.500896    4.897341  ...    1.494602   \n",
       "min    -43.557242  -41.044261  -13.434066  -24.588262  ...   -8.887017   \n",
       "25%     -7.965295   -0.195336   -3.872383   -7.756698  ...   -0.533764   \n",
       "50%     -3.034402    0.621508   -2.208768   -4.578825  ...    0.048434   \n",
       "75%     -0.945954    1.764879   -0.787850   -2.614184  ...    0.617474   \n",
       "max      5.802537   20.007208    3.353525    4.031435  ...    8.361985   \n",
       "\n",
       "              V23         V24         V25         V26         V27         V28  \\\n",
       "count  492.000000  492.000000  492.000000  492.000000  492.000000  492.000000   \n",
       "mean    -0.040308   -0.105130    0.041449    0.051648    0.170575    0.075667   \n",
       "std      1.579642    0.515577    0.797205    0.471679    1.376766    0.547291   \n",
       "min    -19.254328   -2.028024   -4.781606   -1.152671   -7.263482   -1.869290   \n",
       "25%     -0.342175   -0.436809   -0.314348   -0.259416   -0.020025   -0.108868   \n",
       "50%     -0.073135   -0.060795    0.088371    0.004321    0.394926    0.146344   \n",
       "75%      0.308378    0.285328    0.456515    0.396733    0.826029    0.381152   \n",
       "max      5.466230    1.091435    2.208209    2.745261    3.052358    1.779364   \n",
       "\n",
       "            Amount  Class    New_Time  \n",
       "count   492.000000  492.0  492.000000  \n",
       "mean    122.211321    1.0    0.467306  \n",
       "std     256.683288    0.0    0.276838  \n",
       "min       0.000000    1.0    0.002350  \n",
       "25%       1.000000    1.0    0.238677  \n",
       "50%       9.250000    1.0    0.437338  \n",
       "75%     105.890000    1.0    0.743570  \n",
       "max    2125.870000    1.0    0.985856  \n",
       "\n",
       "[8 rows x 31 columns]"
      ]
     },
     "execution_count": 18,
     "metadata": {},
     "output_type": "execute_result"
    }
   ],
   "source": [
    "fraud.describe()"
   ]
  },
  {
   "cell_type": "code",
   "execution_count": null,
   "id": "02a9fdbc",
   "metadata": {
    "papermill": {
     "duration": 0.0206,
     "end_time": "2022-12-13T09:50:44.497394",
     "exception": false,
     "start_time": "2022-12-13T09:50:44.476794",
     "status": "completed"
    },
    "tags": []
   },
   "outputs": [],
   "source": []
  },
  {
   "cell_type": "markdown",
   "id": "61be42a6",
   "metadata": {
    "papermill": {
     "duration": 0.01961,
     "end_time": "2022-12-13T09:50:44.538202",
     "exception": false,
     "start_time": "2022-12-13T09:50:44.518592",
     "status": "completed"
    },
    "tags": []
   },
   "source": [
    "<a id= \"3\"></a>\n",
    "# Model Building and Deployment"
   ]
  },
  {
   "cell_type": "markdown",
   "id": "b34dd84a",
   "metadata": {
    "papermill": {
     "duration": 0.020795,
     "end_time": "2022-12-13T09:50:44.579616",
     "exception": false,
     "start_time": "2022-12-13T09:50:44.558821",
     "status": "completed"
    },
    "tags": []
   },
   "source": [
    "<a id= \"4\"></a>\n",
    "## Spliting Data Into Features & Targets"
   ]
  },
  {
   "cell_type": "code",
   "execution_count": null,
   "id": "4d07b246",
   "metadata": {
    "papermill": {
     "duration": 0.020531,
     "end_time": "2022-12-13T09:50:44.621440",
     "exception": false,
     "start_time": "2022-12-13T09:50:44.600909",
     "status": "completed"
    },
    "tags": []
   },
   "outputs": [],
   "source": []
  },
  {
   "cell_type": "code",
   "execution_count": 19,
   "id": "7cad144d",
   "metadata": {
    "execution": {
     "iopub.execute_input": "2022-12-13T09:50:44.664475Z",
     "iopub.status.busy": "2022-12-13T09:50:44.664071Z",
     "iopub.status.idle": "2022-12-13T09:50:44.695370Z",
     "shell.execute_reply": "2022-12-13T09:50:44.694204Z"
    },
    "papermill": {
     "duration": 0.055105,
     "end_time": "2022-12-13T09:50:44.697726",
     "exception": false,
     "start_time": "2022-12-13T09:50:44.642621",
     "status": "completed"
    },
    "tags": []
   },
   "outputs": [],
   "source": [
    "X = train.drop(columns=\"Class\",axis=1)\n",
    "Y = train[\"Class\"]"
   ]
  },
  {
   "cell_type": "code",
   "execution_count": 20,
   "id": "3029a008",
   "metadata": {
    "execution": {
     "iopub.execute_input": "2022-12-13T09:50:44.739514Z",
     "iopub.status.busy": "2022-12-13T09:50:44.739122Z",
     "iopub.status.idle": "2022-12-13T09:50:44.802787Z",
     "shell.execute_reply": "2022-12-13T09:50:44.801899Z"
    },
    "papermill": {
     "duration": 0.087345,
     "end_time": "2022-12-13T09:50:44.805111",
     "exception": false,
     "start_time": "2022-12-13T09:50:44.717766",
     "status": "completed"
    },
    "tags": []
   },
   "outputs": [
    {
     "data": {
      "text/html": [
       "<div>\n",
       "<style scoped>\n",
       "    .dataframe tbody tr th:only-of-type {\n",
       "        vertical-align: middle;\n",
       "    }\n",
       "\n",
       "    .dataframe tbody tr th {\n",
       "        vertical-align: top;\n",
       "    }\n",
       "\n",
       "    .dataframe thead th {\n",
       "        text-align: right;\n",
       "    }\n",
       "</style>\n",
       "<table border=\"1\" class=\"dataframe\">\n",
       "  <thead>\n",
       "    <tr style=\"text-align: right;\">\n",
       "      <th></th>\n",
       "      <th>V1</th>\n",
       "      <th>V2</th>\n",
       "      <th>V3</th>\n",
       "      <th>V4</th>\n",
       "      <th>V5</th>\n",
       "      <th>V6</th>\n",
       "      <th>V7</th>\n",
       "      <th>V8</th>\n",
       "      <th>V9</th>\n",
       "      <th>V10</th>\n",
       "      <th>...</th>\n",
       "      <th>V21</th>\n",
       "      <th>V22</th>\n",
       "      <th>V23</th>\n",
       "      <th>V24</th>\n",
       "      <th>V25</th>\n",
       "      <th>V26</th>\n",
       "      <th>V27</th>\n",
       "      <th>V28</th>\n",
       "      <th>Amount</th>\n",
       "      <th>New_Time</th>\n",
       "    </tr>\n",
       "  </thead>\n",
       "  <tbody>\n",
       "    <tr>\n",
       "      <th>0</th>\n",
       "      <td>-1.359807</td>\n",
       "      <td>-0.072781</td>\n",
       "      <td>2.536347</td>\n",
       "      <td>1.378155</td>\n",
       "      <td>-0.338321</td>\n",
       "      <td>0.462388</td>\n",
       "      <td>0.239599</td>\n",
       "      <td>0.098698</td>\n",
       "      <td>0.363787</td>\n",
       "      <td>0.090794</td>\n",
       "      <td>...</td>\n",
       "      <td>-0.018307</td>\n",
       "      <td>0.277838</td>\n",
       "      <td>-0.110474</td>\n",
       "      <td>0.066928</td>\n",
       "      <td>0.128539</td>\n",
       "      <td>-0.189115</td>\n",
       "      <td>0.133558</td>\n",
       "      <td>-0.021053</td>\n",
       "      <td>149.62</td>\n",
       "      <td>0.000000</td>\n",
       "    </tr>\n",
       "    <tr>\n",
       "      <th>1</th>\n",
       "      <td>1.191857</td>\n",
       "      <td>0.266151</td>\n",
       "      <td>0.166480</td>\n",
       "      <td>0.448154</td>\n",
       "      <td>0.060018</td>\n",
       "      <td>-0.082361</td>\n",
       "      <td>-0.078803</td>\n",
       "      <td>0.085102</td>\n",
       "      <td>-0.255425</td>\n",
       "      <td>-0.166974</td>\n",
       "      <td>...</td>\n",
       "      <td>-0.225775</td>\n",
       "      <td>-0.638672</td>\n",
       "      <td>0.101288</td>\n",
       "      <td>-0.339846</td>\n",
       "      <td>0.167170</td>\n",
       "      <td>0.125895</td>\n",
       "      <td>-0.008983</td>\n",
       "      <td>0.014724</td>\n",
       "      <td>2.69</td>\n",
       "      <td>0.000000</td>\n",
       "    </tr>\n",
       "    <tr>\n",
       "      <th>2</th>\n",
       "      <td>-1.358354</td>\n",
       "      <td>-1.340163</td>\n",
       "      <td>1.773209</td>\n",
       "      <td>0.379780</td>\n",
       "      <td>-0.503198</td>\n",
       "      <td>1.800499</td>\n",
       "      <td>0.791461</td>\n",
       "      <td>0.247676</td>\n",
       "      <td>-1.514654</td>\n",
       "      <td>0.207643</td>\n",
       "      <td>...</td>\n",
       "      <td>0.247998</td>\n",
       "      <td>0.771679</td>\n",
       "      <td>0.909412</td>\n",
       "      <td>-0.689281</td>\n",
       "      <td>-0.327642</td>\n",
       "      <td>-0.139097</td>\n",
       "      <td>-0.055353</td>\n",
       "      <td>-0.059752</td>\n",
       "      <td>378.66</td>\n",
       "      <td>0.000006</td>\n",
       "    </tr>\n",
       "    <tr>\n",
       "      <th>3</th>\n",
       "      <td>-0.966272</td>\n",
       "      <td>-0.185226</td>\n",
       "      <td>1.792993</td>\n",
       "      <td>-0.863291</td>\n",
       "      <td>-0.010309</td>\n",
       "      <td>1.247203</td>\n",
       "      <td>0.237609</td>\n",
       "      <td>0.377436</td>\n",
       "      <td>-1.387024</td>\n",
       "      <td>-0.054952</td>\n",
       "      <td>...</td>\n",
       "      <td>-0.108300</td>\n",
       "      <td>0.005274</td>\n",
       "      <td>-0.190321</td>\n",
       "      <td>-1.175575</td>\n",
       "      <td>0.647376</td>\n",
       "      <td>-0.221929</td>\n",
       "      <td>0.062723</td>\n",
       "      <td>0.061458</td>\n",
       "      <td>123.50</td>\n",
       "      <td>0.000006</td>\n",
       "    </tr>\n",
       "    <tr>\n",
       "      <th>4</th>\n",
       "      <td>-1.158233</td>\n",
       "      <td>0.877737</td>\n",
       "      <td>1.548718</td>\n",
       "      <td>0.403034</td>\n",
       "      <td>-0.407193</td>\n",
       "      <td>0.095921</td>\n",
       "      <td>0.592941</td>\n",
       "      <td>-0.270533</td>\n",
       "      <td>0.817739</td>\n",
       "      <td>0.753074</td>\n",
       "      <td>...</td>\n",
       "      <td>-0.009431</td>\n",
       "      <td>0.798278</td>\n",
       "      <td>-0.137458</td>\n",
       "      <td>0.141267</td>\n",
       "      <td>-0.206010</td>\n",
       "      <td>0.502292</td>\n",
       "      <td>0.219422</td>\n",
       "      <td>0.215153</td>\n",
       "      <td>69.99</td>\n",
       "      <td>0.000012</td>\n",
       "    </tr>\n",
       "    <tr>\n",
       "      <th>...</th>\n",
       "      <td>...</td>\n",
       "      <td>...</td>\n",
       "      <td>...</td>\n",
       "      <td>...</td>\n",
       "      <td>...</td>\n",
       "      <td>...</td>\n",
       "      <td>...</td>\n",
       "      <td>...</td>\n",
       "      <td>...</td>\n",
       "      <td>...</td>\n",
       "      <td>...</td>\n",
       "      <td>...</td>\n",
       "      <td>...</td>\n",
       "      <td>...</td>\n",
       "      <td>...</td>\n",
       "      <td>...</td>\n",
       "      <td>...</td>\n",
       "      <td>...</td>\n",
       "      <td>...</td>\n",
       "      <td>...</td>\n",
       "      <td>...</td>\n",
       "    </tr>\n",
       "    <tr>\n",
       "      <th>284802</th>\n",
       "      <td>-11.881118</td>\n",
       "      <td>10.071785</td>\n",
       "      <td>-9.834783</td>\n",
       "      <td>-2.066656</td>\n",
       "      <td>-5.364473</td>\n",
       "      <td>-2.606837</td>\n",
       "      <td>-4.918215</td>\n",
       "      <td>7.305334</td>\n",
       "      <td>1.914428</td>\n",
       "      <td>4.356170</td>\n",
       "      <td>...</td>\n",
       "      <td>0.213454</td>\n",
       "      <td>0.111864</td>\n",
       "      <td>1.014480</td>\n",
       "      <td>-0.509348</td>\n",
       "      <td>1.436807</td>\n",
       "      <td>0.250034</td>\n",
       "      <td>0.943651</td>\n",
       "      <td>0.823731</td>\n",
       "      <td>0.77</td>\n",
       "      <td>0.999965</td>\n",
       "    </tr>\n",
       "    <tr>\n",
       "      <th>284803</th>\n",
       "      <td>-0.732789</td>\n",
       "      <td>-0.055080</td>\n",
       "      <td>2.035030</td>\n",
       "      <td>-0.738589</td>\n",
       "      <td>0.868229</td>\n",
       "      <td>1.058415</td>\n",
       "      <td>0.024330</td>\n",
       "      <td>0.294869</td>\n",
       "      <td>0.584800</td>\n",
       "      <td>-0.975926</td>\n",
       "      <td>...</td>\n",
       "      <td>0.214205</td>\n",
       "      <td>0.924384</td>\n",
       "      <td>0.012463</td>\n",
       "      <td>-1.016226</td>\n",
       "      <td>-0.606624</td>\n",
       "      <td>-0.395255</td>\n",
       "      <td>0.068472</td>\n",
       "      <td>-0.053527</td>\n",
       "      <td>24.79</td>\n",
       "      <td>0.999971</td>\n",
       "    </tr>\n",
       "    <tr>\n",
       "      <th>284804</th>\n",
       "      <td>1.919565</td>\n",
       "      <td>-0.301254</td>\n",
       "      <td>-3.249640</td>\n",
       "      <td>-0.557828</td>\n",
       "      <td>2.630515</td>\n",
       "      <td>3.031260</td>\n",
       "      <td>-0.296827</td>\n",
       "      <td>0.708417</td>\n",
       "      <td>0.432454</td>\n",
       "      <td>-0.484782</td>\n",
       "      <td>...</td>\n",
       "      <td>0.232045</td>\n",
       "      <td>0.578229</td>\n",
       "      <td>-0.037501</td>\n",
       "      <td>0.640134</td>\n",
       "      <td>0.265745</td>\n",
       "      <td>-0.087371</td>\n",
       "      <td>0.004455</td>\n",
       "      <td>-0.026561</td>\n",
       "      <td>67.88</td>\n",
       "      <td>0.999977</td>\n",
       "    </tr>\n",
       "    <tr>\n",
       "      <th>284805</th>\n",
       "      <td>-0.240440</td>\n",
       "      <td>0.530483</td>\n",
       "      <td>0.702510</td>\n",
       "      <td>0.689799</td>\n",
       "      <td>-0.377961</td>\n",
       "      <td>0.623708</td>\n",
       "      <td>-0.686180</td>\n",
       "      <td>0.679145</td>\n",
       "      <td>0.392087</td>\n",
       "      <td>-0.399126</td>\n",
       "      <td>...</td>\n",
       "      <td>0.265245</td>\n",
       "      <td>0.800049</td>\n",
       "      <td>-0.163298</td>\n",
       "      <td>0.123205</td>\n",
       "      <td>-0.569159</td>\n",
       "      <td>0.546668</td>\n",
       "      <td>0.108821</td>\n",
       "      <td>0.104533</td>\n",
       "      <td>10.00</td>\n",
       "      <td>0.999977</td>\n",
       "    </tr>\n",
       "    <tr>\n",
       "      <th>284806</th>\n",
       "      <td>-0.533413</td>\n",
       "      <td>-0.189733</td>\n",
       "      <td>0.703337</td>\n",
       "      <td>-0.506271</td>\n",
       "      <td>-0.012546</td>\n",
       "      <td>-0.649617</td>\n",
       "      <td>1.577006</td>\n",
       "      <td>-0.414650</td>\n",
       "      <td>0.486180</td>\n",
       "      <td>-0.915427</td>\n",
       "      <td>...</td>\n",
       "      <td>0.261057</td>\n",
       "      <td>0.643078</td>\n",
       "      <td>0.376777</td>\n",
       "      <td>0.008797</td>\n",
       "      <td>-0.473649</td>\n",
       "      <td>-0.818267</td>\n",
       "      <td>-0.002415</td>\n",
       "      <td>0.013649</td>\n",
       "      <td>217.00</td>\n",
       "      <td>1.000000</td>\n",
       "    </tr>\n",
       "  </tbody>\n",
       "</table>\n",
       "<p>284807 rows × 30 columns</p>\n",
       "</div>"
      ],
      "text/plain": [
       "               V1         V2        V3        V4        V5        V6  \\\n",
       "0       -1.359807  -0.072781  2.536347  1.378155 -0.338321  0.462388   \n",
       "1        1.191857   0.266151  0.166480  0.448154  0.060018 -0.082361   \n",
       "2       -1.358354  -1.340163  1.773209  0.379780 -0.503198  1.800499   \n",
       "3       -0.966272  -0.185226  1.792993 -0.863291 -0.010309  1.247203   \n",
       "4       -1.158233   0.877737  1.548718  0.403034 -0.407193  0.095921   \n",
       "...           ...        ...       ...       ...       ...       ...   \n",
       "284802 -11.881118  10.071785 -9.834783 -2.066656 -5.364473 -2.606837   \n",
       "284803  -0.732789  -0.055080  2.035030 -0.738589  0.868229  1.058415   \n",
       "284804   1.919565  -0.301254 -3.249640 -0.557828  2.630515  3.031260   \n",
       "284805  -0.240440   0.530483  0.702510  0.689799 -0.377961  0.623708   \n",
       "284806  -0.533413  -0.189733  0.703337 -0.506271 -0.012546 -0.649617   \n",
       "\n",
       "              V7        V8        V9       V10  ...       V21       V22  \\\n",
       "0       0.239599  0.098698  0.363787  0.090794  ... -0.018307  0.277838   \n",
       "1      -0.078803  0.085102 -0.255425 -0.166974  ... -0.225775 -0.638672   \n",
       "2       0.791461  0.247676 -1.514654  0.207643  ...  0.247998  0.771679   \n",
       "3       0.237609  0.377436 -1.387024 -0.054952  ... -0.108300  0.005274   \n",
       "4       0.592941 -0.270533  0.817739  0.753074  ... -0.009431  0.798278   \n",
       "...          ...       ...       ...       ...  ...       ...       ...   \n",
       "284802 -4.918215  7.305334  1.914428  4.356170  ...  0.213454  0.111864   \n",
       "284803  0.024330  0.294869  0.584800 -0.975926  ...  0.214205  0.924384   \n",
       "284804 -0.296827  0.708417  0.432454 -0.484782  ...  0.232045  0.578229   \n",
       "284805 -0.686180  0.679145  0.392087 -0.399126  ...  0.265245  0.800049   \n",
       "284806  1.577006 -0.414650  0.486180 -0.915427  ...  0.261057  0.643078   \n",
       "\n",
       "             V23       V24       V25       V26       V27       V28  Amount  \\\n",
       "0      -0.110474  0.066928  0.128539 -0.189115  0.133558 -0.021053  149.62   \n",
       "1       0.101288 -0.339846  0.167170  0.125895 -0.008983  0.014724    2.69   \n",
       "2       0.909412 -0.689281 -0.327642 -0.139097 -0.055353 -0.059752  378.66   \n",
       "3      -0.190321 -1.175575  0.647376 -0.221929  0.062723  0.061458  123.50   \n",
       "4      -0.137458  0.141267 -0.206010  0.502292  0.219422  0.215153   69.99   \n",
       "...          ...       ...       ...       ...       ...       ...     ...   \n",
       "284802  1.014480 -0.509348  1.436807  0.250034  0.943651  0.823731    0.77   \n",
       "284803  0.012463 -1.016226 -0.606624 -0.395255  0.068472 -0.053527   24.79   \n",
       "284804 -0.037501  0.640134  0.265745 -0.087371  0.004455 -0.026561   67.88   \n",
       "284805 -0.163298  0.123205 -0.569159  0.546668  0.108821  0.104533   10.00   \n",
       "284806  0.376777  0.008797 -0.473649 -0.818267 -0.002415  0.013649  217.00   \n",
       "\n",
       "        New_Time  \n",
       "0       0.000000  \n",
       "1       0.000000  \n",
       "2       0.000006  \n",
       "3       0.000006  \n",
       "4       0.000012  \n",
       "...          ...  \n",
       "284802  0.999965  \n",
       "284803  0.999971  \n",
       "284804  0.999977  \n",
       "284805  0.999977  \n",
       "284806  1.000000  \n",
       "\n",
       "[284807 rows x 30 columns]"
      ]
     },
     "execution_count": 20,
     "metadata": {},
     "output_type": "execute_result"
    }
   ],
   "source": [
    "X\n"
   ]
  },
  {
   "cell_type": "code",
   "execution_count": 21,
   "id": "173e43d2",
   "metadata": {
    "execution": {
     "iopub.execute_input": "2022-12-13T09:50:44.850013Z",
     "iopub.status.busy": "2022-12-13T09:50:44.849602Z",
     "iopub.status.idle": "2022-12-13T09:50:44.858463Z",
     "shell.execute_reply": "2022-12-13T09:50:44.857067Z"
    },
    "papermill": {
     "duration": 0.035204,
     "end_time": "2022-12-13T09:50:44.860970",
     "exception": false,
     "start_time": "2022-12-13T09:50:44.825766",
     "status": "completed"
    },
    "tags": []
   },
   "outputs": [
    {
     "data": {
      "text/plain": [
       "array([0, 1])"
      ]
     },
     "execution_count": 21,
     "metadata": {},
     "output_type": "execute_result"
    }
   ],
   "source": [
    "Y.unique()"
   ]
  },
  {
   "cell_type": "markdown",
   "id": "8bb30e11",
   "metadata": {
    "papermill": {
     "duration": 0.020457,
     "end_time": "2022-12-13T09:50:44.903008",
     "exception": false,
     "start_time": "2022-12-13T09:50:44.882551",
     "status": "completed"
    },
    "tags": []
   },
   "source": [
    "<a id= \"5\"></a>\n",
    "## Undersampling "
   ]
  },
  {
   "cell_type": "code",
   "execution_count": 22,
   "id": "11c5a312",
   "metadata": {
    "execution": {
     "iopub.execute_input": "2022-12-13T09:50:44.946850Z",
     "iopub.status.busy": "2022-12-13T09:50:44.946474Z",
     "iopub.status.idle": "2022-12-13T09:50:45.475810Z",
     "shell.execute_reply": "2022-12-13T09:50:45.474604Z"
    },
    "papermill": {
     "duration": 0.555295,
     "end_time": "2022-12-13T09:50:45.478790",
     "exception": false,
     "start_time": "2022-12-13T09:50:44.923495",
     "status": "completed"
    },
    "tags": []
   },
   "outputs": [],
   "source": [
    "from imblearn.under_sampling import RandomUnderSampler\n",
    "rus = RandomUnderSampler(random_state=42)\n",
    "x_resampled, y_resampled = rus.fit_resample(X, Y)"
   ]
  },
  {
   "cell_type": "code",
   "execution_count": 23,
   "id": "17b14fb8",
   "metadata": {
    "execution": {
     "iopub.execute_input": "2022-12-13T09:50:45.522366Z",
     "iopub.status.busy": "2022-12-13T09:50:45.521913Z",
     "iopub.status.idle": "2022-12-13T09:50:45.528703Z",
     "shell.execute_reply": "2022-12-13T09:50:45.527786Z"
    },
    "papermill": {
     "duration": 0.031837,
     "end_time": "2022-12-13T09:50:45.531289",
     "exception": false,
     "start_time": "2022-12-13T09:50:45.499452",
     "status": "completed"
    },
    "tags": []
   },
   "outputs": [
    {
     "data": {
      "text/plain": [
       "(984, 30)"
      ]
     },
     "execution_count": 23,
     "metadata": {},
     "output_type": "execute_result"
    }
   ],
   "source": [
    "x_resampled.shape"
   ]
  },
  {
   "cell_type": "code",
   "execution_count": 24,
   "id": "cceed675",
   "metadata": {
    "execution": {
     "iopub.execute_input": "2022-12-13T09:50:45.575448Z",
     "iopub.status.busy": "2022-12-13T09:50:45.575068Z",
     "iopub.status.idle": "2022-12-13T09:50:45.583463Z",
     "shell.execute_reply": "2022-12-13T09:50:45.582237Z"
    },
    "papermill": {
     "duration": 0.034074,
     "end_time": "2022-12-13T09:50:45.586277",
     "exception": false,
     "start_time": "2022-12-13T09:50:45.552203",
     "status": "completed"
    },
    "tags": []
   },
   "outputs": [
    {
     "data": {
      "text/plain": [
       "array([492])"
      ]
     },
     "execution_count": 24,
     "metadata": {},
     "output_type": "execute_result"
    }
   ],
   "source": [
    "y_resampled.value_counts().unique()"
   ]
  },
  {
   "cell_type": "code",
   "execution_count": 25,
   "id": "63720348",
   "metadata": {
    "execution": {
     "iopub.execute_input": "2022-12-13T09:50:45.632584Z",
     "iopub.status.busy": "2022-12-13T09:50:45.632189Z",
     "iopub.status.idle": "2022-12-13T09:50:45.816067Z",
     "shell.execute_reply": "2022-12-13T09:50:45.814637Z"
    },
    "papermill": {
     "duration": 0.21057,
     "end_time": "2022-12-13T09:50:45.818895",
     "exception": false,
     "start_time": "2022-12-13T09:50:45.608325",
     "status": "completed"
    },
    "tags": []
   },
   "outputs": [
    {
     "data": {
      "text/plain": [
       "<AxesSubplot:xlabel='Class', ylabel='count'>"
      ]
     },
     "execution_count": 25,
     "metadata": {},
     "output_type": "execute_result"
    },
    {
     "data": {
      "image/png": "[encoded data removed]",
      "text/plain": [
       "<Figure size 432x288 with 1 Axes>"
      ]
     },
     "metadata": {
      "needs_background": "light"
     },
     "output_type": "display_data"
    }
   ],
   "source": [
    "sns.countplot(y_resampled)"
   ]
  },
  {
   "cell_type": "markdown",
   "id": "be3b9c07",
   "metadata": {
    "papermill": {
     "duration": 0.021401,
     "end_time": "2022-12-13T09:50:45.861868",
     "exception": false,
     "start_time": "2022-12-13T09:50:45.840467",
     "status": "completed"
    },
    "tags": []
   },
   "source": [
    "<a id= \"6\"></a>\n",
    "## Train-Test-Split"
   ]
  },
  {
   "cell_type": "code",
   "execution_count": 26,
   "id": "8648bf56",
   "metadata": {
    "execution": {
     "iopub.execute_input": "2022-12-13T09:50:45.907628Z",
     "iopub.status.busy": "2022-12-13T09:50:45.906056Z",
     "iopub.status.idle": "2022-12-13T09:50:45.916101Z",
     "shell.execute_reply": "2022-12-13T09:50:45.914874Z"
    },
    "papermill": {
     "duration": 0.036026,
     "end_time": "2022-12-13T09:50:45.918858",
     "exception": false,
     "start_time": "2022-12-13T09:50:45.882832",
     "status": "completed"
    },
    "tags": []
   },
   "outputs": [],
   "source": [
    "from sklearn.model_selection import train_test_split,StratifiedKFold, GridSearchCV\n",
    "X_train, X_test, y_train, y_test = train_test_split(x_resampled, y_resampled, test_size=0.33, random_state=42)"
   ]
  },
  {
   "cell_type": "code",
   "execution_count": 27,
   "id": "1c55f99a",
   "metadata": {
    "execution": {
     "iopub.execute_input": "2022-12-13T09:50:45.964936Z",
     "iopub.status.busy": "2022-12-13T09:50:45.964185Z",
     "iopub.status.idle": "2022-12-13T09:50:45.971807Z",
     "shell.execute_reply": "2022-12-13T09:50:45.969996Z"
    },
    "papermill": {
     "duration": 0.032852,
     "end_time": "2022-12-13T09:50:45.974358",
     "exception": false,
     "start_time": "2022-12-13T09:50:45.941506",
     "status": "completed"
    },
    "tags": []
   },
   "outputs": [
    {
     "name": "stdout",
     "output_type": "stream",
     "text": [
      "X Train:(659, 30)\n",
      "X Test:(325, 30)\n",
      "Y Test:(325,)\n",
      "Y Train:(659,)\n"
     ]
    }
   ],
   "source": [
    "print(f\"X Train:{X_train.shape}\")\n",
    "print(f\"X Test:{X_test.shape}\")\n",
    "print(f\"Y Test:{y_test.shape}\")\n",
    "print(f\"Y Train:{y_train.shape}\")"
   ]
  },
  {
   "cell_type": "code",
   "execution_count": null,
   "id": "820929c5",
   "metadata": {
    "papermill": {
     "duration": 0.0215,
     "end_time": "2022-12-13T09:50:46.016926",
     "exception": false,
     "start_time": "2022-12-13T09:50:45.995426",
     "status": "completed"
    },
    "tags": []
   },
   "outputs": [],
   "source": []
  },
  {
   "cell_type": "markdown",
   "id": "a5c3e598",
   "metadata": {
    "papermill": {
     "duration": 0.021716,
     "end_time": "2022-12-13T09:50:46.059551",
     "exception": false,
     "start_time": "2022-12-13T09:50:46.037835",
     "status": "completed"
    },
    "tags": []
   },
   "source": [
    "<a id= \"7\"></a>\n",
    "## Methods"
   ]
  },
  {
   "cell_type": "code",
   "execution_count": 28,
   "id": "3f1277c3",
   "metadata": {
    "execution": {
     "iopub.execute_input": "2022-12-13T09:50:46.106306Z",
     "iopub.status.busy": "2022-12-13T09:50:46.105886Z",
     "iopub.status.idle": "2022-12-13T09:50:46.143061Z",
     "shell.execute_reply": "2022-12-13T09:50:46.141813Z"
    },
    "papermill": {
     "duration": 0.064572,
     "end_time": "2022-12-13T09:50:46.146001",
     "exception": false,
     "start_time": "2022-12-13T09:50:46.081429",
     "status": "completed"
    },
    "tags": []
   },
   "outputs": [],
   "source": [
    "from sklearn.linear_model import LogisticRegression\n",
    "from sklearn.neighbors import KNeighborsClassifier\n",
    "from sklearn.tree import DecisionTreeClassifier\n",
    "from sklearn.svm import SVC, LinearSVC\n",
    "from sklearn.neural_network import MLPClassifier\n",
    "from sklearn.ensemble import RandomForestClassifier, AdaBoostClassifier\n",
    "from sklearn.naive_bayes import GaussianNB\n",
    "from sklearn.gaussian_process import GaussianProcessClassifier\n",
    "from sklearn.discriminant_analysis import QuadraticDiscriminantAnalysis\n",
    "\n",
    "from sklearn.metrics import confusion_matrix, accuracy_score, classification_report\n",
    "\n"
   ]
  },
  {
   "cell_type": "code",
   "execution_count": 29,
   "id": "c54b2e21",
   "metadata": {
    "execution": {
     "iopub.execute_input": "2022-12-13T09:50:46.191015Z",
     "iopub.status.busy": "2022-12-13T09:50:46.190647Z",
     "iopub.status.idle": "2022-12-13T09:50:46.198727Z",
     "shell.execute_reply": "2022-12-13T09:50:46.197499Z"
    },
    "papermill": {
     "duration": 0.033047,
     "end_time": "2022-12-13T09:50:46.201202",
     "exception": false,
     "start_time": "2022-12-13T09:50:46.168155",
     "status": "completed"
    },
    "tags": []
   },
   "outputs": [],
   "source": [
    "rs=42\n",
    "models = {\n",
    "    \"LogisticRegression\"   :LogisticRegression(random_state=rs),\n",
    "    \"KNeighborsClassifier\" :KNeighborsClassifier(n_neighbors= 3,weights= \"uniform\" ,metric=\"euclidean\"),\n",
    "    \"DecisionTreeClassifier\":DecisionTreeClassifier(min_samples_split = 20,max_depth=20,random_state=rs),\n",
    "    \"SVC\":SVC(kernel = \"rbf\",gamma= 0.01,C=1000,random_state=rs),\n",
    "    \"linearSVC\":LinearSVC(),\n",
    "    \"MLPClassifier\":MLPClassifier(),\n",
    "    \"RandomForestClassifier\":RandomForestClassifier(max_features= 10,min_samples_split=10,min_samples_leaf=10,bootstrap=[False],criterion=\"gini\",random_state=rs),\n",
    "    \"AdaBoostClassifier\":AdaBoostClassifier(),\n",
    "    \"GaussianProcessClassifier\":GaussianProcessClassifier(),\n",
    "    \"QuadraticDiscriminantAnalysis\":QuadraticDiscriminantAnalysis(),\n",
    "    \"GaussianNB\":  GaussianNB()\n",
    "}"
   ]
  },
  {
   "cell_type": "code",
   "execution_count": 30,
   "id": "6fd8a8b5",
   "metadata": {
    "execution": {
     "iopub.execute_input": "2022-12-13T09:50:46.244638Z",
     "iopub.status.busy": "2022-12-13T09:50:46.244262Z",
     "iopub.status.idle": "2022-12-13T09:50:49.450842Z",
     "shell.execute_reply": "2022-12-13T09:50:49.448920Z"
    },
    "papermill": {
     "duration": 3.233181,
     "end_time": "2022-12-13T09:50:49.455144",
     "exception": false,
     "start_time": "2022-12-13T09:50:46.221963",
     "status": "completed"
    },
    "tags": []
   },
   "outputs": [
    {
     "name": "stdout",
     "output_type": "stream",
     "text": [
      "LogisticRegression trained.\n",
      "KNeighborsClassifier trained.\n",
      "DecisionTreeClassifier trained.\n",
      "SVC trained.\n",
      "linearSVC trained.\n",
      "MLPClassifier trained.\n",
      "RandomForestClassifier trained.\n",
      "AdaBoostClassifier trained.\n",
      "GaussianProcessClassifier trained.\n",
      "QuadraticDiscriminantAnalysis trained.\n",
      "GaussianNB trained.\n"
     ]
    }
   ],
   "source": [
    "for name,model in models.items():\n",
    "    model.fit(X_train,y_train)\n",
    "    print(name + \" trained.\")"
   ]
  },
  {
   "cell_type": "code",
   "execution_count": 31,
   "id": "02e0cb3a",
   "metadata": {
    "execution": {
     "iopub.execute_input": "2022-12-13T09:50:49.574912Z",
     "iopub.status.busy": "2022-12-13T09:50:49.574389Z",
     "iopub.status.idle": "2022-12-13T09:50:49.757311Z",
     "shell.execute_reply": "2022-12-13T09:50:49.756042Z"
    },
    "papermill": {
     "duration": 0.223576,
     "end_time": "2022-12-13T09:50:49.761284",
     "exception": false,
     "start_time": "2022-12-13T09:50:49.537708",
     "status": "completed"
    },
    "tags": []
   },
   "outputs": [
    {
     "name": "stdout",
     "output_type": "stream",
     "text": [
      "LogisticRegression: 93.54%\n",
      "KNeighborsClassifier: 89.54%\n",
      "DecisionTreeClassifier: 90.46%\n",
      "SVC: 90.15%\n",
      "linearSVC: 92.31%\n",
      "MLPClassifier: 93.85%\n",
      "RandomForestClassifier: 93.23%\n",
      "AdaBoostClassifier: 93.23%\n",
      "GaussianProcessClassifier: 89.23%\n",
      "QuadraticDiscriminantAnalysis: 93.23%\n",
      "GaussianNB: 92.00%\n"
     ]
    }
   ],
   "source": [
    "results =[]\n",
    "    \n",
    "for name,model in models.items():\n",
    "    result = model.score(X_test,y_test)\n",
    "    results.append(result)\n",
    "    print(name+\": {:.2f}%\".format(result*100))"
   ]
  },
  {
   "cell_type": "code",
   "execution_count": 32,
   "id": "90a8229f",
   "metadata": {
    "execution": {
     "iopub.execute_input": "2022-12-13T09:50:49.872108Z",
     "iopub.status.busy": "2022-12-13T09:50:49.871678Z",
     "iopub.status.idle": "2022-12-13T09:50:50.068994Z",
     "shell.execute_reply": "2022-12-13T09:50:50.067798Z"
    },
    "papermill": {
     "duration": 0.255961,
     "end_time": "2022-12-13T09:50:50.071655",
     "exception": false,
     "start_time": "2022-12-13T09:50:49.815694",
     "status": "completed"
    },
    "tags": []
   },
   "outputs": [
    {
     "data": {
      "image/png": "[encoded data removed]",
      "text/plain": [
       "<Figure size 432x288 with 1 Axes>"
      ]
     },
     "metadata": {
      "needs_background": "light"
     },
     "output_type": "display_data"
    }
   ],
   "source": [
    "cv_results = pd.DataFrame({\"Accuracy\":results, \"ML Models\":[ \"LogisticRegression\",\"KNeighborsClassifier\",\"DecisionTreeClassifier\",\"SVC\",\"linearSVC\",\"MLPClassifier\",\"RandomForestClassifier\",\"AdaBoostClassifier\",\"GaussianProcessClassifier\",\n",
    "    \"QuadraticDiscriminantAnalysis\",\n",
    "    \"GaussianNB\"]})\n",
    "\n",
    "g = sns.barplot(\"Accuracy\", \"ML Models\", data = cv_results)\n",
    "g.set_xlabel(\"Accuracy\")\n",
    "g.set_title(\"Accuracy Scores\")\n",
    "plt.show()"
   ]
  },
  {
   "cell_type": "markdown",
   "id": "71d21fbf",
   "metadata": {
    "execution": {
     "iopub.execute_input": "2022-11-27T14:18:12.518194Z",
     "iopub.status.busy": "2022-11-27T14:18:12.517778Z",
     "iopub.status.idle": "2022-11-27T14:18:12.540180Z",
     "shell.execute_reply": "2022-11-27T14:18:12.538476Z",
     "shell.execute_reply.started": "2022-11-27T14:18:12.518160Z"
    },
    "papermill": {
     "duration": 0.022523,
     "end_time": "2022-12-13T09:50:50.116299",
     "exception": false,
     "start_time": "2022-12-13T09:50:50.093776",
     "status": "completed"
    },
    "tags": []
   },
   "source": [
    "<a id= \"8\"></a>\n",
    "## High Accuracy Ranking(First 6)\n",
    "1. MLP Classifier\n",
    "1. Linear SVC\n",
    "1. Logistic Regression\n",
    "1. Random Forest Classifier\n",
    "1. Ada Boost Classifier\n",
    "1. Quadratic Discriminant Analysis\n"
   ]
  },
  {
   "cell_type": "code",
   "execution_count": 33,
   "id": "cd99818c",
   "metadata": {
    "execution": {
     "iopub.execute_input": "2022-12-13T09:50:50.163385Z",
     "iopub.status.busy": "2022-12-13T09:50:50.162966Z",
     "iopub.status.idle": "2022-12-13T09:50:50.354228Z",
     "shell.execute_reply": "2022-12-13T09:50:50.352594Z"
    },
    "papermill": {
     "duration": 0.220804,
     "end_time": "2022-12-13T09:50:50.359256",
     "exception": false,
     "start_time": "2022-12-13T09:50:50.138452",
     "status": "completed"
    },
    "tags": []
   },
   "outputs": [],
   "source": [
    "y_predicted = []\n",
    "Ml_Models = [ \"LogisticRegression\",\"KNeighborsClassifier\",\"DecisionTreeClassifier\",\"SVC\",\"linearSVC\",\"MLPClassifier\",\"RandomForestClassifier\",\"AdaBoostClassifier\",\"GaussianProcessClassifier\",\n",
    "    \"QuadraticDiscriminantAnalysis\",\n",
    "    \"GaussianNB\"]\n",
    "for name,model in models.items():\n",
    "    y_pred = model.predict(X_test)\n",
    "    y_predicted.append(y_pred)"
   ]
  },
  {
   "cell_type": "code",
   "execution_count": 34,
   "id": "dcede532",
   "metadata": {
    "execution": {
     "iopub.execute_input": "2022-12-13T09:50:50.474324Z",
     "iopub.status.busy": "2022-12-13T09:50:50.473874Z",
     "iopub.status.idle": "2022-12-13T09:50:50.493153Z",
     "shell.execute_reply": "2022-12-13T09:50:50.491147Z"
    },
    "papermill": {
     "duration": 0.078771,
     "end_time": "2022-12-13T09:50:50.495878",
     "exception": false,
     "start_time": "2022-12-13T09:50:50.417107",
     "status": "completed"
    },
    "tags": []
   },
   "outputs": [
    {
     "name": "stdout",
     "output_type": "stream",
     "text": [
      "LogisticRegression\n",
      "[[158   6]\n",
      " [ 15 146]]\n",
      "KNeighborsClassifier\n",
      "[[155   9]\n",
      " [ 25 136]]\n",
      "DecisionTreeClassifier\n",
      "[[151  13]\n",
      " [ 18 143]]\n",
      "SVC\n",
      "[[145  19]\n",
      " [ 13 148]]\n",
      "linearSVC\n",
      "[[156   8]\n",
      " [ 17 144]]\n",
      "MLPClassifier\n",
      "[[157   7]\n",
      " [ 13 148]]\n",
      "RandomForestClassifier\n",
      "[[158   6]\n",
      " [ 16 145]]\n",
      "AdaBoostClassifier\n",
      "[[155   9]\n",
      " [ 13 148]]\n",
      "GaussianProcessClassifier\n",
      "[[155   9]\n",
      " [ 26 135]]\n",
      "QuadraticDiscriminantAnalysis\n",
      "[[157   7]\n",
      " [ 15 146]]\n",
      "GaussianNB\n",
      "[[160   4]\n",
      " [ 22 139]]\n"
     ]
    }
   ],
   "source": [
    "Ml_Models = [ \"LogisticRegression\",\"KNeighborsClassifier\",\"DecisionTreeClassifier\",\"SVC\",\"linearSVC\",\"MLPClassifier\",\"RandomForestClassifier\",\"AdaBoostClassifier\",\"GaussianProcessClassifier\",\n",
    "    \"QuadraticDiscriminantAnalysis\",\n",
    "    \"GaussianNB\"]\n",
    "for i in range(len(list(models.values()))):\n",
    "    print(Ml_Models[i])\n",
    "    cm = confusion_matrix(y_test,y_predicted[i])\n",
    "    print(cm)\n"
   ]
  },
  {
   "cell_type": "markdown",
   "id": "af957a5c",
   "metadata": {
    "papermill": {
     "duration": 0.02227,
     "end_time": "2022-12-13T09:50:50.540230",
     "exception": false,
     "start_time": "2022-12-13T09:50:50.517960",
     "status": "completed"
    },
    "tags": []
   },
   "source": [
    "<a id= \"9\"></a>\n",
    "## For Confusion Matrix \n",
    "### Highest TP and TN(First 6)\n",
    "1. linearSVC\n",
    "1. SVC\n",
    "1. AdaBoostClassifier\n",
    "1. LogisticRegression\n",
    "1. MLPClassifier\n",
    "1. QuadraticDiscriminantAnalysis\n",
    "\n",
    " \n"
   ]
  },
  {
   "cell_type": "markdown",
   "id": "941c5eca",
   "metadata": {
    "papermill": {
     "duration": 0.022425,
     "end_time": "2022-12-13T09:50:50.585531",
     "exception": false,
     "start_time": "2022-12-13T09:50:50.563106",
     "status": "completed"
    },
    "tags": []
   },
   "source": [
    "So Linear SVC is attracted attention with accuracy values.\n",
    "Lest Visualization Linear SVC!!"
   ]
  },
  {
   "cell_type": "code",
   "execution_count": 35,
   "id": "49b86ac0",
   "metadata": {
    "execution": {
     "iopub.execute_input": "2022-12-13T09:50:50.632891Z",
     "iopub.status.busy": "2022-12-13T09:50:50.632026Z",
     "iopub.status.idle": "2022-12-13T09:50:50.640241Z",
     "shell.execute_reply": "2022-12-13T09:50:50.639293Z"
    },
    "papermill": {
     "duration": 0.034242,
     "end_time": "2022-12-13T09:50:50.642401",
     "exception": false,
     "start_time": "2022-12-13T09:50:50.608159",
     "status": "completed"
    },
    "tags": []
   },
   "outputs": [
    {
     "name": "stdout",
     "output_type": "stream",
     "text": [
      "linearSVC\n",
      "[[156   8]\n",
      " [ 17 144]]\n"
     ]
    }
   ],
   "source": [
    "print(Ml_Models[4])\n",
    "LinearSVC_cm = confusion_matrix(y_test,y_predicted[4])\n",
    "print(LinearSVC_cm)"
   ]
  },
  {
   "cell_type": "code",
   "execution_count": 36,
   "id": "57fccd87",
   "metadata": {
    "execution": {
     "iopub.execute_input": "2022-12-13T09:50:50.688285Z",
     "iopub.status.busy": "2022-12-13T09:50:50.687643Z",
     "iopub.status.idle": "2022-12-13T09:50:50.932003Z",
     "shell.execute_reply": "2022-12-13T09:50:50.930443Z"
    },
    "papermill": {
     "duration": 0.270176,
     "end_time": "2022-12-13T09:50:50.934674",
     "exception": false,
     "start_time": "2022-12-13T09:50:50.664498",
     "status": "completed"
    },
    "tags": []
   },
   "outputs": [
    {
     "data": {
      "image/png": "[encoded data removed]",
      "text/plain": [
       "<Figure size 432x288 with 2 Axes>"
      ]
     },
     "metadata": {
      "needs_background": "light"
     },
     "output_type": "display_data"
    }
   ],
   "source": [
    "group_names = [\"True Neg\",\"False Pos\",\"False Neg\",\"True Pos\"]\n",
    "group_counts = [\"{0:0.0f}\".format(value) for value in\n",
    "                LinearSVC_cm.flatten()]\n",
    "group_percentages = [\"{0:.2%}\".format(value) for value in\n",
    "                     LinearSVC_cm.flatten()/np.sum(LinearSVC_cm)]\n",
    "labels = [f\"{v1}\\n{v2}\\n{v3}\" for v1, v2, v3 in\n",
    "          zip(group_names,group_counts,group_percentages)]\n",
    "labels = np.asarray(labels).reshape(2,2)\n",
    "sns.heatmap(LinearSVC_cm, annot=labels, fmt=\"\", cmap='Blues')\n",
    "plt.show()"
   ]
  },
  {
   "cell_type": "markdown",
   "id": "cf7bd77d",
   "metadata": {
    "papermill": {
     "duration": 0.021754,
     "end_time": "2022-12-13T09:50:50.979841",
     "exception": false,
     "start_time": "2022-12-13T09:50:50.958087",
     "status": "completed"
    },
    "tags": []
   },
   "source": []
  },
  {
   "cell_type": "code",
   "execution_count": 37,
   "id": "6ac00fda",
   "metadata": {
    "execution": {
     "iopub.execute_input": "2022-12-13T09:50:51.027027Z",
     "iopub.status.busy": "2022-12-13T09:50:51.026559Z",
     "iopub.status.idle": "2022-12-13T09:50:51.080713Z",
     "shell.execute_reply": "2022-12-13T09:50:51.079333Z"
    },
    "papermill": {
     "duration": 0.081633,
     "end_time": "2022-12-13T09:50:51.083713",
     "exception": false,
     "start_time": "2022-12-13T09:50:51.002080",
     "status": "completed"
    },
    "tags": []
   },
   "outputs": [
    {
     "name": "stdout",
     "output_type": "stream",
     "text": [
      "    LogisticRegression    \n",
      "////////////////////\n",
      "              precision    recall  f1-score   support\n",
      "\n",
      "       Legit       0.91      0.96      0.94       164\n",
      "       Fraud       0.96      0.91      0.93       161\n",
      "\n",
      "    accuracy                           0.94       325\n",
      "   macro avg       0.94      0.94      0.94       325\n",
      "weighted avg       0.94      0.94      0.94       325\n",
      "\n",
      "---------------------------------------\n",
      "    KNeighborsClassifier    \n",
      "////////////////////\n",
      "              precision    recall  f1-score   support\n",
      "\n",
      "       Legit       0.86      0.95      0.90       164\n",
      "       Fraud       0.94      0.84      0.89       161\n",
      "\n",
      "    accuracy                           0.90       325\n",
      "   macro avg       0.90      0.89      0.90       325\n",
      "weighted avg       0.90      0.90      0.90       325\n",
      "\n",
      "---------------------------------------\n",
      "    DecisionTreeClassifier    \n",
      "////////////////////\n",
      "              precision    recall  f1-score   support\n",
      "\n",
      "       Legit       0.89      0.92      0.91       164\n",
      "       Fraud       0.92      0.89      0.90       161\n",
      "\n",
      "    accuracy                           0.90       325\n",
      "   macro avg       0.91      0.90      0.90       325\n",
      "weighted avg       0.90      0.90      0.90       325\n",
      "\n",
      "---------------------------------------\n",
      "    SVC    \n",
      "////////////////////\n",
      "              precision    recall  f1-score   support\n",
      "\n",
      "       Legit       0.92      0.88      0.90       164\n",
      "       Fraud       0.89      0.92      0.90       161\n",
      "\n",
      "    accuracy                           0.90       325\n",
      "   macro avg       0.90      0.90      0.90       325\n",
      "weighted avg       0.90      0.90      0.90       325\n",
      "\n",
      "---------------------------------------\n",
      "    linearSVC    \n",
      "////////////////////\n",
      "              precision    recall  f1-score   support\n",
      "\n",
      "       Legit       0.90      0.95      0.93       164\n",
      "       Fraud       0.95      0.89      0.92       161\n",
      "\n",
      "    accuracy                           0.92       325\n",
      "   macro avg       0.92      0.92      0.92       325\n",
      "weighted avg       0.92      0.92      0.92       325\n",
      "\n",
      "---------------------------------------\n",
      "    MLPClassifier    \n",
      "////////////////////\n",
      "              precision    recall  f1-score   support\n",
      "\n",
      "       Legit       0.92      0.96      0.94       164\n",
      "       Fraud       0.95      0.92      0.94       161\n",
      "\n",
      "    accuracy                           0.94       325\n",
      "   macro avg       0.94      0.94      0.94       325\n",
      "weighted avg       0.94      0.94      0.94       325\n",
      "\n",
      "---------------------------------------\n",
      "    RandomForestClassifier    \n",
      "////////////////////\n",
      "              precision    recall  f1-score   support\n",
      "\n",
      "       Legit       0.91      0.96      0.93       164\n",
      "       Fraud       0.96      0.90      0.93       161\n",
      "\n",
      "    accuracy                           0.93       325\n",
      "   macro avg       0.93      0.93      0.93       325\n",
      "weighted avg       0.93      0.93      0.93       325\n",
      "\n",
      "---------------------------------------\n",
      "    AdaBoostClassifier    \n",
      "////////////////////\n",
      "              precision    recall  f1-score   support\n",
      "\n",
      "       Legit       0.92      0.95      0.93       164\n",
      "       Fraud       0.94      0.92      0.93       161\n",
      "\n",
      "    accuracy                           0.93       325\n",
      "   macro avg       0.93      0.93      0.93       325\n",
      "weighted avg       0.93      0.93      0.93       325\n",
      "\n",
      "---------------------------------------\n",
      "    GaussianProcessClassifier    \n",
      "////////////////////\n",
      "              precision    recall  f1-score   support\n",
      "\n",
      "       Legit       0.86      0.95      0.90       164\n",
      "       Fraud       0.94      0.84      0.89       161\n",
      "\n",
      "    accuracy                           0.89       325\n",
      "   macro avg       0.90      0.89      0.89       325\n",
      "weighted avg       0.90      0.89      0.89       325\n",
      "\n",
      "---------------------------------------\n",
      "    QuadraticDiscriminantAnalysis    \n",
      "////////////////////\n",
      "              precision    recall  f1-score   support\n",
      "\n",
      "       Legit       0.91      0.96      0.93       164\n",
      "       Fraud       0.95      0.91      0.93       161\n",
      "\n",
      "    accuracy                           0.93       325\n",
      "   macro avg       0.93      0.93      0.93       325\n",
      "weighted avg       0.93      0.93      0.93       325\n",
      "\n",
      "---------------------------------------\n",
      "    GaussianNB    \n",
      "////////////////////\n",
      "              precision    recall  f1-score   support\n",
      "\n",
      "       Legit       0.88      0.98      0.92       164\n",
      "       Fraud       0.97      0.86      0.91       161\n",
      "\n",
      "    accuracy                           0.92       325\n",
      "   macro avg       0.93      0.92      0.92       325\n",
      "weighted avg       0.93      0.92      0.92       325\n",
      "\n",
      "---------------------------------------\n"
     ]
    }
   ],
   "source": [
    "names = [\"Legit\",\"Fraud\"]\n",
    "\n",
    "for i in range(len(list(models.values()))):\n",
    "    \n",
    "    print(\"    \"+Ml_Models[i]+\"    \")\n",
    "    print(\"////////////////////\")\n",
    "    CR = classification_report(y_test, y_predicted[i],target_names=names)\n",
    "    print(CR)\n",
    "    print(\"---------------------------------------\")"
   ]
  },
  {
   "cell_type": "markdown",
   "id": "114e49dc",
   "metadata": {
    "papermill": {
     "duration": 0.022888,
     "end_time": "2022-12-13T09:50:51.130168",
     "exception": false,
     "start_time": "2022-12-13T09:50:51.107280",
     "status": "completed"
    },
    "tags": []
   },
   "source": [
    "<a id= \"10\"></a>\n",
    "# Conclusion"
   ]
  },
  {
   "cell_type": "markdown",
   "id": "fa1fe58c",
   "metadata": {
    "papermill": {
     "duration": 0.022744,
     "end_time": "2022-12-13T09:50:51.175740",
     "exception": false,
     "start_time": "2022-12-13T09:50:51.152996",
     "status": "completed"
    },
    "tags": []
   },
   "source": [
    "Although other models have high f1 scores, I consider the use of Linear Svc method correct, taking into account other evaluations."
   ]
  }
 ],
 "metadata": {
  "kernelspec": {
   "display_name": "Python 3",
   "language": "python",
   "name": "python3"
  },
  "language_info": {
   "codemirror_mode": {
    "name": "ipython",
    "version": 3
   },
   "file_extension": ".py",
   "mimetype": "text/x-python",
   "name": "python",
   "nbconvert_exporter": "python",
   "pygments_lexer": "ipython3",
   "version": "3.7.12"
  },
  "papermill": {
   "default_parameters": {},
   "duration": 33.222056,
   "end_time": "2022-12-13T09:50:52.122311",
   "environment_variables": {},
   "exception": null,
   "input_path": "__notebook__.ipynb",
   "output_path": "__notebook__.ipynb",
   "parameters": {},
   "start_time": "2022-12-13T09:50:18.900255",
   "version": "2.3.4"
  }
 },
 "nbformat": 4,
 "nbformat_minor": 5
}
